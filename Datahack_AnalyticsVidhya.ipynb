{
  "nbformat": 4,
  "nbformat_minor": 0,
  "metadata": {
    "colab": {
      "name": "Datahack.ipynb",
      "provenance": [],
      "collapsed_sections": [],
      "authorship_tag": "ABX9TyOgTuamM4ypWp+2MdRSgZ17",
      "include_colab_link": true
    },
    "kernelspec": {
      "name": "python3",
      "display_name": "Python 3"
    }
  },
  "cells": [
    {
      "cell_type": "markdown",
      "metadata": {
        "id": "view-in-github",
        "colab_type": "text"
      },
      "source": [
        "<a href=\"https://colab.research.google.com/github/neethu-1983/Boosting-Techniques/blob/master/Datahack_AnalyticsVidhya.ipynb\" target=\"_parent\"><img src=\"https://colab.research.google.com/assets/colab-badge.svg\" alt=\"Open In Colab\"/></a>"
      ]
    },
    {
      "cell_type": "code",
      "metadata": {
        "id": "QQXDwnS_Jip1",
        "colab_type": "code",
        "colab": {}
      },
      "source": [
        "from sklearn.metrics import mean_squared_log_error\n",
        "import pandas as pd\n",
        "import numpy as np\n",
        "import datetime\n",
        "import pickle\n",
        "#from tqdm import tqdm\n",
        "from scipy.stats import skew, kurtosis\n",
        "import multiprocessing \n",
        "import matplotlib.pyplot as plt\n",
        "import lightgbm as lgb"
      ],
      "execution_count": 0,
      "outputs": []
    },
    {
      "cell_type": "code",
      "metadata": {
        "id": "sEPtItPTSa9J",
        "colab_type": "code",
        "colab": {
          "base_uri": "https://localhost:8080/",
          "height": 34
        },
        "outputId": "f33c3430-f8a4-46fd-a0c0-9719f26e310e"
      },
      "source": [
        "from google.colab import drive\n",
        "drive.mount('/content/drive')"
      ],
      "execution_count": 63,
      "outputs": [
        {
          "output_type": "stream",
          "text": [
            "Mounted at /content/drive\n"
          ],
          "name": "stdout"
        }
      ]
    },
    {
      "cell_type": "code",
      "metadata": {
        "id": "-981LYP9Sye-",
        "colab_type": "code",
        "colab": {}
      },
      "source": [
        "!ls \"/content/drive/My Drive\""
      ],
      "execution_count": 0,
      "outputs": []
    },
    {
      "cell_type": "markdown",
      "metadata": {
        "id": "MJuLg8O3pUGh",
        "colab_type": "text"
      },
      "source": [
        "# downloading files from google drive"
      ]
    },
    {
      "cell_type": "code",
      "metadata": {
        "id": "5iZKiZowpOYO",
        "colab_type": "code",
        "colab": {}
      },
      "source": [
        "# Code to read csv file into Colaboratory:\n",
        "!pip install -U -q PyDrive\n",
        "from pydrive.auth import GoogleAuth\n",
        "from pydrive.drive import GoogleDrive\n",
        "from google.colab import auth\n",
        "from oauth2client.client import GoogleCredentials\n",
        "# Authenticate and create the PyDrive client.\n",
        "auth.authenticate_user()\n",
        "gauth = GoogleAuth()\n",
        "gauth.credentials = GoogleCredentials.get_application_default()\n",
        "drive = GoogleDrive(gauth)"
      ],
      "execution_count": 0,
      "outputs": []
    },
    {
      "cell_type": "code",
      "metadata": {
        "id": "aE0oSKvpqZtP",
        "colab_type": "code",
        "colab": {}
      },
      "source": [
        "link = 'https://drive.google.com/open?id=1Nqzhaa8PSRHJQd1a9zsfMBBnWv1R6WIF'"
      ],
      "execution_count": 0,
      "outputs": []
    },
    {
      "cell_type": "code",
      "metadata": {
        "id": "pi-PCvzmpS2X",
        "colab_type": "code",
        "colab": {
          "base_uri": "https://localhost:8080/",
          "height": 34
        },
        "outputId": "fc1c3058-4591-493e-e483-12870fa4423c"
      },
      "source": [
        "fluff, id = link.split('=')\n",
        "print (id) # Verify that you have everything after '='"
      ],
      "execution_count": 85,
      "outputs": [
        {
          "output_type": "stream",
          "text": [
            "1Nqzhaa8PSRHJQd1a9zsfMBBnWv1R6WIF\n"
          ],
          "name": "stdout"
        }
      ]
    },
    {
      "cell_type": "code",
      "metadata": {
        "id": "-v5oBufrJmJa",
        "colab_type": "code",
        "colab": {}
      },
      "source": [
        "downloaded = drive.CreateFile({'id':id}) \n",
        "downloaded.GetContentFile('Filename.csv')  \n",
        "train = pd.read_csv('Filename.csv')\n",
        "# Dataset is now stored in a Pandas Dataframe\n"
      ],
      "execution_count": 0,
      "outputs": []
    },
    {
      "cell_type": "code",
      "metadata": {
        "id": "X1jV4gyBq1pM",
        "colab_type": "code",
        "colab": {
          "base_uri": "https://localhost:8080/",
          "height": 304
        },
        "outputId": "276700be-c59e-4e8f-bbce-faf74098e5d3"
      },
      "source": [
        "train.tail(5)"
      ],
      "execution_count": 88,
      "outputs": [
        {
          "output_type": "execute_result",
          "data": {
            "text/html": [
              "<div>\n",
              "<style scoped>\n",
              "    .dataframe tbody tr th:only-of-type {\n",
              "        vertical-align: middle;\n",
              "    }\n",
              "\n",
              "    .dataframe tbody tr th {\n",
              "        vertical-align: top;\n",
              "    }\n",
              "\n",
              "    .dataframe thead th {\n",
              "        text-align: right;\n",
              "    }\n",
              "</style>\n",
              "<table border=\"1\" class=\"dataframe\">\n",
              "  <thead>\n",
              "    <tr style=\"text-align: right;\">\n",
              "      <th></th>\n",
              "      <th>ID</th>\n",
              "      <th>Day_No</th>\n",
              "      <th>Course_ID</th>\n",
              "      <th>Course_Domain</th>\n",
              "      <th>Course_Type</th>\n",
              "      <th>Short_Promotion</th>\n",
              "      <th>Public_Holiday</th>\n",
              "      <th>Long_Promotion</th>\n",
              "      <th>User_Traffic</th>\n",
              "      <th>Competition_Metric</th>\n",
              "      <th>Sales</th>\n",
              "    </tr>\n",
              "  </thead>\n",
              "  <tbody>\n",
              "    <tr>\n",
              "      <th>512082</th>\n",
              "      <td>548023</td>\n",
              "      <td>878</td>\n",
              "      <td>600</td>\n",
              "      <td>Software Marketing</td>\n",
              "      <td>Program</td>\n",
              "      <td>0</td>\n",
              "      <td>0</td>\n",
              "      <td>1</td>\n",
              "      <td>8904</td>\n",
              "      <td>0.07</td>\n",
              "      <td>114</td>\n",
              "    </tr>\n",
              "    <tr>\n",
              "      <th>512083</th>\n",
              "      <td>548024</td>\n",
              "      <td>879</td>\n",
              "      <td>600</td>\n",
              "      <td>Software Marketing</td>\n",
              "      <td>Program</td>\n",
              "      <td>0</td>\n",
              "      <td>0</td>\n",
              "      <td>1</td>\n",
              "      <td>10542</td>\n",
              "      <td>0.07</td>\n",
              "      <td>145</td>\n",
              "    </tr>\n",
              "    <tr>\n",
              "      <th>512084</th>\n",
              "      <td>548025</td>\n",
              "      <td>880</td>\n",
              "      <td>600</td>\n",
              "      <td>Software Marketing</td>\n",
              "      <td>Program</td>\n",
              "      <td>0</td>\n",
              "      <td>0</td>\n",
              "      <td>1</td>\n",
              "      <td>13671</td>\n",
              "      <td>0.07</td>\n",
              "      <td>167</td>\n",
              "    </tr>\n",
              "    <tr>\n",
              "      <th>512085</th>\n",
              "      <td>548026</td>\n",
              "      <td>881</td>\n",
              "      <td>600</td>\n",
              "      <td>Software Marketing</td>\n",
              "      <td>Program</td>\n",
              "      <td>0</td>\n",
              "      <td>0</td>\n",
              "      <td>1</td>\n",
              "      <td>8904</td>\n",
              "      <td>0.07</td>\n",
              "      <td>107</td>\n",
              "    </tr>\n",
              "    <tr>\n",
              "      <th>512086</th>\n",
              "      <td>548027</td>\n",
              "      <td>882</td>\n",
              "      <td>600</td>\n",
              "      <td>Software Marketing</td>\n",
              "      <td>Program</td>\n",
              "      <td>1</td>\n",
              "      <td>0</td>\n",
              "      <td>1</td>\n",
              "      <td>11445</td>\n",
              "      <td>0.07</td>\n",
              "      <td>152</td>\n",
              "    </tr>\n",
              "  </tbody>\n",
              "</table>\n",
              "</div>"
            ],
            "text/plain": [
              "            ID  Day_No  Course_ID  ... User_Traffic Competition_Metric  Sales\n",
              "512082  548023     878        600  ...         8904               0.07    114\n",
              "512083  548024     879        600  ...        10542               0.07    145\n",
              "512084  548025     880        600  ...        13671               0.07    167\n",
              "512085  548026     881        600  ...         8904               0.07    107\n",
              "512086  548027     882        600  ...        11445               0.07    152\n",
              "\n",
              "[5 rows x 11 columns]"
            ]
          },
          "metadata": {
            "tags": []
          },
          "execution_count": 88
        }
      ]
    },
    {
      "cell_type": "code",
      "metadata": {
        "id": "IO4SaoewNPdH",
        "colab_type": "code",
        "colab": {}
      },
      "source": [
        "from sklearn.metrics import mean_squared_log_error\n",
        "def MSLE(y_true, y_pred):\n",
        "  msle = 1000*np.sqrt(np.mean(np.square(np.log1p(y_true) - np.log1p(y_pred))))\n",
        "  return msle\n",
        "\n"
      ],
      "execution_count": 0,
      "outputs": []
    },
    {
      "cell_type": "code",
      "metadata": {
        "id": "5Ky1jsPSTnLx",
        "colab_type": "code",
        "colab": {}
      },
      "source": [
        "??mean_squared_log_error\n"
      ],
      "execution_count": 0,
      "outputs": []
    },
    {
      "cell_type": "code",
      "metadata": {
        "id": "XxWxMYsctiAq",
        "colab_type": "code",
        "colab": {}
      },
      "source": [
        "link2 = 'https://drive.google.com/open?id=1wT5qr9WY1EP_msjOpUr2IoPQZkbwoYeB'"
      ],
      "execution_count": 0,
      "outputs": []
    },
    {
      "cell_type": "code",
      "metadata": {
        "id": "aGINaIk3wOtP",
        "colab_type": "code",
        "colab": {
          "base_uri": "https://localhost:8080/",
          "height": 34
        },
        "outputId": "a8312cf4-b178-4fb9-c181-170bf16a800e"
      },
      "source": [
        "fluff, id = link2.split('=')\n",
        "print (id) # Verify that you have everything after '='"
      ],
      "execution_count": 70,
      "outputs": [
        {
          "output_type": "stream",
          "text": [
            "1wT5qr9WY1EP_msjOpUr2IoPQZkbwoYeB\n"
          ],
          "name": "stdout"
        }
      ]
    },
    {
      "cell_type": "code",
      "metadata": {
        "id": "zAOKPmLGwSNs",
        "colab_type": "code",
        "colab": {}
      },
      "source": [
        "downloaded = drive.CreateFile({'id':id}) \n",
        "downloaded.GetContentFile('Filename.csv')  \n",
        "test = pd.read_csv('Filename.csv')"
      ],
      "execution_count": 0,
      "outputs": []
    },
    {
      "cell_type": "code",
      "metadata": {
        "id": "jTkUDqfzwWzU",
        "colab_type": "code",
        "colab": {
          "base_uri": "https://localhost:8080/",
          "height": 199
        },
        "outputId": "acdc4471-8366-4c11-bf9c-6a4067ee5ddc"
      },
      "source": [
        "test.head()"
      ],
      "execution_count": 12,
      "outputs": [
        {
          "output_type": "execute_result",
          "data": {
            "text/html": [
              "<div>\n",
              "<style scoped>\n",
              "    .dataframe tbody tr th:only-of-type {\n",
              "        vertical-align: middle;\n",
              "    }\n",
              "\n",
              "    .dataframe tbody tr th {\n",
              "        vertical-align: top;\n",
              "    }\n",
              "\n",
              "    .dataframe thead th {\n",
              "        text-align: right;\n",
              "    }\n",
              "</style>\n",
              "<table border=\"1\" class=\"dataframe\">\n",
              "  <thead>\n",
              "    <tr style=\"text-align: right;\">\n",
              "      <th></th>\n",
              "      <th>ID</th>\n",
              "      <th>Day_No</th>\n",
              "      <th>Course_ID</th>\n",
              "      <th>Course_Domain</th>\n",
              "      <th>Course_Type</th>\n",
              "      <th>Short_Promotion</th>\n",
              "      <th>Public_Holiday</th>\n",
              "      <th>Long_Promotion</th>\n",
              "      <th>Competition_Metric</th>\n",
              "    </tr>\n",
              "  </thead>\n",
              "  <tbody>\n",
              "    <tr>\n",
              "      <th>0</th>\n",
              "      <td>883</td>\n",
              "      <td>883</td>\n",
              "      <td>1</td>\n",
              "      <td>Development</td>\n",
              "      <td>Course</td>\n",
              "      <td>1</td>\n",
              "      <td>0</td>\n",
              "      <td>1</td>\n",
              "      <td>0.007</td>\n",
              "    </tr>\n",
              "    <tr>\n",
              "      <th>1</th>\n",
              "      <td>884</td>\n",
              "      <td>884</td>\n",
              "      <td>1</td>\n",
              "      <td>Development</td>\n",
              "      <td>Course</td>\n",
              "      <td>1</td>\n",
              "      <td>0</td>\n",
              "      <td>1</td>\n",
              "      <td>0.007</td>\n",
              "    </tr>\n",
              "    <tr>\n",
              "      <th>2</th>\n",
              "      <td>885</td>\n",
              "      <td>885</td>\n",
              "      <td>1</td>\n",
              "      <td>Development</td>\n",
              "      <td>Course</td>\n",
              "      <td>1</td>\n",
              "      <td>0</td>\n",
              "      <td>1</td>\n",
              "      <td>0.007</td>\n",
              "    </tr>\n",
              "    <tr>\n",
              "      <th>3</th>\n",
              "      <td>886</td>\n",
              "      <td>886</td>\n",
              "      <td>1</td>\n",
              "      <td>Development</td>\n",
              "      <td>Course</td>\n",
              "      <td>1</td>\n",
              "      <td>0</td>\n",
              "      <td>1</td>\n",
              "      <td>0.007</td>\n",
              "    </tr>\n",
              "    <tr>\n",
              "      <th>4</th>\n",
              "      <td>887</td>\n",
              "      <td>887</td>\n",
              "      <td>1</td>\n",
              "      <td>Development</td>\n",
              "      <td>Course</td>\n",
              "      <td>0</td>\n",
              "      <td>0</td>\n",
              "      <td>1</td>\n",
              "      <td>0.007</td>\n",
              "    </tr>\n",
              "  </tbody>\n",
              "</table>\n",
              "</div>"
            ],
            "text/plain": [
              "    ID  Day_No  Course_ID  ... Public_Holiday Long_Promotion  Competition_Metric\n",
              "0  883     883          1  ...              0              1               0.007\n",
              "1  884     884          1  ...              0              1               0.007\n",
              "2  885     885          1  ...              0              1               0.007\n",
              "3  886     886          1  ...              0              1               0.007\n",
              "4  887     887          1  ...              0              1               0.007\n",
              "\n",
              "[5 rows x 9 columns]"
            ]
          },
          "metadata": {
            "tags": []
          },
          "execution_count": 12
        }
      ]
    },
    {
      "cell_type": "code",
      "metadata": {
        "id": "qYXSMhh8wYvz",
        "colab_type": "code",
        "colab": {
          "base_uri": "https://localhost:8080/",
          "height": 515
        },
        "outputId": "65e77348-76bb-4392-edee-b8beae85ac07"
      },
      "source": [
        "train"
      ],
      "execution_count": 13,
      "outputs": [
        {
          "output_type": "execute_result",
          "data": {
            "text/html": [
              "<div>\n",
              "<style scoped>\n",
              "    .dataframe tbody tr th:only-of-type {\n",
              "        vertical-align: middle;\n",
              "    }\n",
              "\n",
              "    .dataframe tbody tr th {\n",
              "        vertical-align: top;\n",
              "    }\n",
              "\n",
              "    .dataframe thead th {\n",
              "        text-align: right;\n",
              "    }\n",
              "</style>\n",
              "<table border=\"1\" class=\"dataframe\">\n",
              "  <thead>\n",
              "    <tr style=\"text-align: right;\">\n",
              "      <th></th>\n",
              "      <th>ID</th>\n",
              "      <th>Day_No</th>\n",
              "      <th>Course_ID</th>\n",
              "      <th>Course_Domain</th>\n",
              "      <th>Course_Type</th>\n",
              "      <th>Short_Promotion</th>\n",
              "      <th>Public_Holiday</th>\n",
              "      <th>Long_Promotion</th>\n",
              "      <th>User_Traffic</th>\n",
              "      <th>Competition_Metric</th>\n",
              "      <th>Sales</th>\n",
              "    </tr>\n",
              "  </thead>\n",
              "  <tbody>\n",
              "    <tr>\n",
              "      <th>0</th>\n",
              "      <td>1</td>\n",
              "      <td>1</td>\n",
              "      <td>1</td>\n",
              "      <td>Development</td>\n",
              "      <td>Course</td>\n",
              "      <td>0</td>\n",
              "      <td>1</td>\n",
              "      <td>1</td>\n",
              "      <td>11004</td>\n",
              "      <td>0.007</td>\n",
              "      <td>81</td>\n",
              "    </tr>\n",
              "    <tr>\n",
              "      <th>1</th>\n",
              "      <td>2</td>\n",
              "      <td>2</td>\n",
              "      <td>1</td>\n",
              "      <td>Development</td>\n",
              "      <td>Course</td>\n",
              "      <td>0</td>\n",
              "      <td>0</td>\n",
              "      <td>1</td>\n",
              "      <td>13650</td>\n",
              "      <td>0.007</td>\n",
              "      <td>79</td>\n",
              "    </tr>\n",
              "    <tr>\n",
              "      <th>2</th>\n",
              "      <td>3</td>\n",
              "      <td>3</td>\n",
              "      <td>1</td>\n",
              "      <td>Development</td>\n",
              "      <td>Course</td>\n",
              "      <td>0</td>\n",
              "      <td>0</td>\n",
              "      <td>1</td>\n",
              "      <td>11655</td>\n",
              "      <td>0.007</td>\n",
              "      <td>75</td>\n",
              "    </tr>\n",
              "    <tr>\n",
              "      <th>3</th>\n",
              "      <td>4</td>\n",
              "      <td>4</td>\n",
              "      <td>1</td>\n",
              "      <td>Development</td>\n",
              "      <td>Course</td>\n",
              "      <td>0</td>\n",
              "      <td>0</td>\n",
              "      <td>1</td>\n",
              "      <td>12054</td>\n",
              "      <td>0.007</td>\n",
              "      <td>80</td>\n",
              "    </tr>\n",
              "    <tr>\n",
              "      <th>4</th>\n",
              "      <td>5</td>\n",
              "      <td>5</td>\n",
              "      <td>1</td>\n",
              "      <td>Development</td>\n",
              "      <td>Course</td>\n",
              "      <td>0</td>\n",
              "      <td>0</td>\n",
              "      <td>1</td>\n",
              "      <td>6804</td>\n",
              "      <td>0.007</td>\n",
              "      <td>41</td>\n",
              "    </tr>\n",
              "    <tr>\n",
              "      <th>...</th>\n",
              "      <td>...</td>\n",
              "      <td>...</td>\n",
              "      <td>...</td>\n",
              "      <td>...</td>\n",
              "      <td>...</td>\n",
              "      <td>...</td>\n",
              "      <td>...</td>\n",
              "      <td>...</td>\n",
              "      <td>...</td>\n",
              "      <td>...</td>\n",
              "      <td>...</td>\n",
              "    </tr>\n",
              "    <tr>\n",
              "      <th>512082</th>\n",
              "      <td>548023</td>\n",
              "      <td>878</td>\n",
              "      <td>600</td>\n",
              "      <td>Software Marketing</td>\n",
              "      <td>Program</td>\n",
              "      <td>0</td>\n",
              "      <td>0</td>\n",
              "      <td>1</td>\n",
              "      <td>8904</td>\n",
              "      <td>0.070</td>\n",
              "      <td>114</td>\n",
              "    </tr>\n",
              "    <tr>\n",
              "      <th>512083</th>\n",
              "      <td>548024</td>\n",
              "      <td>879</td>\n",
              "      <td>600</td>\n",
              "      <td>Software Marketing</td>\n",
              "      <td>Program</td>\n",
              "      <td>0</td>\n",
              "      <td>0</td>\n",
              "      <td>1</td>\n",
              "      <td>10542</td>\n",
              "      <td>0.070</td>\n",
              "      <td>145</td>\n",
              "    </tr>\n",
              "    <tr>\n",
              "      <th>512084</th>\n",
              "      <td>548025</td>\n",
              "      <td>880</td>\n",
              "      <td>600</td>\n",
              "      <td>Software Marketing</td>\n",
              "      <td>Program</td>\n",
              "      <td>0</td>\n",
              "      <td>0</td>\n",
              "      <td>1</td>\n",
              "      <td>13671</td>\n",
              "      <td>0.070</td>\n",
              "      <td>167</td>\n",
              "    </tr>\n",
              "    <tr>\n",
              "      <th>512085</th>\n",
              "      <td>548026</td>\n",
              "      <td>881</td>\n",
              "      <td>600</td>\n",
              "      <td>Software Marketing</td>\n",
              "      <td>Program</td>\n",
              "      <td>0</td>\n",
              "      <td>0</td>\n",
              "      <td>1</td>\n",
              "      <td>8904</td>\n",
              "      <td>0.070</td>\n",
              "      <td>107</td>\n",
              "    </tr>\n",
              "    <tr>\n",
              "      <th>512086</th>\n",
              "      <td>548027</td>\n",
              "      <td>882</td>\n",
              "      <td>600</td>\n",
              "      <td>Software Marketing</td>\n",
              "      <td>Program</td>\n",
              "      <td>1</td>\n",
              "      <td>0</td>\n",
              "      <td>1</td>\n",
              "      <td>11445</td>\n",
              "      <td>0.070</td>\n",
              "      <td>152</td>\n",
              "    </tr>\n",
              "  </tbody>\n",
              "</table>\n",
              "<p>512087 rows × 11 columns</p>\n",
              "</div>"
            ],
            "text/plain": [
              "            ID  Day_No  Course_ID  ... User_Traffic Competition_Metric  Sales\n",
              "0            1       1          1  ...        11004              0.007     81\n",
              "1            2       2          1  ...        13650              0.007     79\n",
              "2            3       3          1  ...        11655              0.007     75\n",
              "3            4       4          1  ...        12054              0.007     80\n",
              "4            5       5          1  ...         6804              0.007     41\n",
              "...        ...     ...        ...  ...          ...                ...    ...\n",
              "512082  548023     878        600  ...         8904              0.070    114\n",
              "512083  548024     879        600  ...        10542              0.070    145\n",
              "512084  548025     880        600  ...        13671              0.070    167\n",
              "512085  548026     881        600  ...         8904              0.070    107\n",
              "512086  548027     882        600  ...        11445              0.070    152\n",
              "\n",
              "[512087 rows x 11 columns]"
            ]
          },
          "metadata": {
            "tags": []
          },
          "execution_count": 13
        }
      ]
    },
    {
      "cell_type": "code",
      "metadata": {
        "id": "4YNufGJf0otx",
        "colab_type": "code",
        "colab": {
          "base_uri": "https://localhost:8080/",
          "height": 298
        },
        "outputId": "ef677d7b-8943-49dd-e8f3-16f758c18742"
      },
      "source": [
        "train.info()"
      ],
      "execution_count": 31,
      "outputs": [
        {
          "output_type": "stream",
          "text": [
            "<class 'pandas.core.frame.DataFrame'>\n",
            "RangeIndex: 512087 entries, 0 to 512086\n",
            "Data columns (total 11 columns):\n",
            "ID                    512087 non-null int64\n",
            "Day_No                512087 non-null int64\n",
            "Course_ID             512087 non-null int64\n",
            "Course_Domain         512087 non-null object\n",
            "Course_Type           512087 non-null object\n",
            "Short_Promotion       512087 non-null int64\n",
            "Public_Holiday        512087 non-null int64\n",
            "Long_Promotion        512087 non-null int64\n",
            "User_Traffic          512087 non-null int64\n",
            "Competition_Metric    510323 non-null float64\n",
            "Sales                 512087 non-null int64\n",
            "dtypes: float64(1), int64(8), object(2)\n",
            "memory usage: 43.0+ MB\n"
          ],
          "name": "stdout"
        }
      ]
    },
    {
      "cell_type": "code",
      "metadata": {
        "id": "eoqyX69WBNie",
        "colab_type": "code",
        "colab": {}
      },
      "source": [
        "all = pd.concat([train,test],ignore_index =True)"
      ],
      "execution_count": 0,
      "outputs": []
    },
    {
      "cell_type": "code",
      "metadata": {
        "id": "5fgFY2q2Bbyq",
        "colab_type": "code",
        "colab": {
          "base_uri": "https://localhost:8080/",
          "height": 540
        },
        "outputId": "cb735055-f3c1-4672-d031-d82de2aadadf"
      },
      "source": [
        "all.tail(10)"
      ],
      "execution_count": 77,
      "outputs": [
        {
          "output_type": "execute_result",
          "data": {
            "text/html": [
              "<div>\n",
              "<style scoped>\n",
              "    .dataframe tbody tr th:only-of-type {\n",
              "        vertical-align: middle;\n",
              "    }\n",
              "\n",
              "    .dataframe tbody tr th {\n",
              "        vertical-align: top;\n",
              "    }\n",
              "\n",
              "    .dataframe thead th {\n",
              "        text-align: right;\n",
              "    }\n",
              "</style>\n",
              "<table border=\"1\" class=\"dataframe\">\n",
              "  <thead>\n",
              "    <tr style=\"text-align: right;\">\n",
              "      <th></th>\n",
              "      <th>ID</th>\n",
              "      <th>Day_No</th>\n",
              "      <th>Course_ID</th>\n",
              "      <th>Course_Domain</th>\n",
              "      <th>Course_Type</th>\n",
              "      <th>Short_Promotion</th>\n",
              "      <th>Public_Holiday</th>\n",
              "      <th>Long_Promotion</th>\n",
              "      <th>User_Traffic</th>\n",
              "      <th>Competition_Metric</th>\n",
              "      <th>Sales</th>\n",
              "    </tr>\n",
              "  </thead>\n",
              "  <tbody>\n",
              "    <tr>\n",
              "      <th>548077</th>\n",
              "      <td>548078</td>\n",
              "      <td>933</td>\n",
              "      <td>600</td>\n",
              "      <td>Software Marketing</td>\n",
              "      <td>Program</td>\n",
              "      <td>0</td>\n",
              "      <td>0</td>\n",
              "      <td>1</td>\n",
              "      <td>NaN</td>\n",
              "      <td>0.07</td>\n",
              "      <td>NaN</td>\n",
              "    </tr>\n",
              "    <tr>\n",
              "      <th>548078</th>\n",
              "      <td>548079</td>\n",
              "      <td>934</td>\n",
              "      <td>600</td>\n",
              "      <td>Software Marketing</td>\n",
              "      <td>Program</td>\n",
              "      <td>0</td>\n",
              "      <td>0</td>\n",
              "      <td>1</td>\n",
              "      <td>NaN</td>\n",
              "      <td>0.07</td>\n",
              "      <td>NaN</td>\n",
              "    </tr>\n",
              "    <tr>\n",
              "      <th>548079</th>\n",
              "      <td>548080</td>\n",
              "      <td>935</td>\n",
              "      <td>600</td>\n",
              "      <td>Software Marketing</td>\n",
              "      <td>Program</td>\n",
              "      <td>0</td>\n",
              "      <td>0</td>\n",
              "      <td>1</td>\n",
              "      <td>NaN</td>\n",
              "      <td>0.07</td>\n",
              "      <td>NaN</td>\n",
              "    </tr>\n",
              "    <tr>\n",
              "      <th>548080</th>\n",
              "      <td>548081</td>\n",
              "      <td>936</td>\n",
              "      <td>600</td>\n",
              "      <td>Software Marketing</td>\n",
              "      <td>Program</td>\n",
              "      <td>0</td>\n",
              "      <td>0</td>\n",
              "      <td>1</td>\n",
              "      <td>NaN</td>\n",
              "      <td>0.07</td>\n",
              "      <td>NaN</td>\n",
              "    </tr>\n",
              "    <tr>\n",
              "      <th>548081</th>\n",
              "      <td>548082</td>\n",
              "      <td>937</td>\n",
              "      <td>600</td>\n",
              "      <td>Software Marketing</td>\n",
              "      <td>Program</td>\n",
              "      <td>0</td>\n",
              "      <td>0</td>\n",
              "      <td>1</td>\n",
              "      <td>NaN</td>\n",
              "      <td>0.07</td>\n",
              "      <td>NaN</td>\n",
              "    </tr>\n",
              "    <tr>\n",
              "      <th>548082</th>\n",
              "      <td>548083</td>\n",
              "      <td>938</td>\n",
              "      <td>600</td>\n",
              "      <td>Software Marketing</td>\n",
              "      <td>Program</td>\n",
              "      <td>1</td>\n",
              "      <td>0</td>\n",
              "      <td>1</td>\n",
              "      <td>NaN</td>\n",
              "      <td>0.07</td>\n",
              "      <td>NaN</td>\n",
              "    </tr>\n",
              "    <tr>\n",
              "      <th>548083</th>\n",
              "      <td>548084</td>\n",
              "      <td>939</td>\n",
              "      <td>600</td>\n",
              "      <td>Software Marketing</td>\n",
              "      <td>Program</td>\n",
              "      <td>1</td>\n",
              "      <td>0</td>\n",
              "      <td>1</td>\n",
              "      <td>NaN</td>\n",
              "      <td>0.07</td>\n",
              "      <td>NaN</td>\n",
              "    </tr>\n",
              "    <tr>\n",
              "      <th>548084</th>\n",
              "      <td>548085</td>\n",
              "      <td>940</td>\n",
              "      <td>600</td>\n",
              "      <td>Software Marketing</td>\n",
              "      <td>Program</td>\n",
              "      <td>1</td>\n",
              "      <td>0</td>\n",
              "      <td>1</td>\n",
              "      <td>NaN</td>\n",
              "      <td>0.07</td>\n",
              "      <td>NaN</td>\n",
              "    </tr>\n",
              "    <tr>\n",
              "      <th>548085</th>\n",
              "      <td>548086</td>\n",
              "      <td>941</td>\n",
              "      <td>600</td>\n",
              "      <td>Software Marketing</td>\n",
              "      <td>Program</td>\n",
              "      <td>1</td>\n",
              "      <td>0</td>\n",
              "      <td>1</td>\n",
              "      <td>NaN</td>\n",
              "      <td>0.07</td>\n",
              "      <td>NaN</td>\n",
              "    </tr>\n",
              "    <tr>\n",
              "      <th>548086</th>\n",
              "      <td>548087</td>\n",
              "      <td>942</td>\n",
              "      <td>600</td>\n",
              "      <td>Software Marketing</td>\n",
              "      <td>Program</td>\n",
              "      <td>1</td>\n",
              "      <td>0</td>\n",
              "      <td>1</td>\n",
              "      <td>NaN</td>\n",
              "      <td>0.07</td>\n",
              "      <td>NaN</td>\n",
              "    </tr>\n",
              "  </tbody>\n",
              "</table>\n",
              "</div>"
            ],
            "text/plain": [
              "            ID  Day_No  Course_ID  ... User_Traffic Competition_Metric  Sales\n",
              "548077  548078     933        600  ...          NaN               0.07    NaN\n",
              "548078  548079     934        600  ...          NaN               0.07    NaN\n",
              "548079  548080     935        600  ...          NaN               0.07    NaN\n",
              "548080  548081     936        600  ...          NaN               0.07    NaN\n",
              "548081  548082     937        600  ...          NaN               0.07    NaN\n",
              "548082  548083     938        600  ...          NaN               0.07    NaN\n",
              "548083  548084     939        600  ...          NaN               0.07    NaN\n",
              "548084  548085     940        600  ...          NaN               0.07    NaN\n",
              "548085  548086     941        600  ...          NaN               0.07    NaN\n",
              "548086  548087     942        600  ...          NaN               0.07    NaN\n",
              "\n",
              "[10 rows x 11 columns]"
            ]
          },
          "metadata": {
            "tags": []
          },
          "execution_count": 77
        }
      ]
    },
    {
      "cell_type": "code",
      "metadata": {
        "id": "SnPngiptAP0i",
        "colab_type": "code",
        "colab": {}
      },
      "source": [
        "all['Saleslag_1'] = all.sort_values('Day_No').groupby(['Course_Domain', 'Course_Type','Course_ID'])['Sales'].shift(1)"
      ],
      "execution_count": 0,
      "outputs": []
    },
    {
      "cell_type": "code",
      "metadata": {
        "id": "zzuxZ8NyDCO-",
        "colab_type": "code",
        "colab": {}
      },
      "source": [
        "#all[all.index.duplicated()]\n",
        "all['Saleslag_2'] = all.sort_values('Day_No').groupby(['Course_Domain', 'Course_Type','Course_ID'])['Sales'].shift(2)"
      ],
      "execution_count": 0,
      "outputs": []
    },
    {
      "cell_type": "code",
      "metadata": {
        "id": "i09ZAJ4CLmUx",
        "colab_type": "code",
        "colab": {
          "base_uri": "https://localhost:8080/",
          "height": 515
        },
        "outputId": "b3c8a028-6ead-4aa1-8ff5-c5ed96290233"
      },
      "source": [
        "all"
      ],
      "execution_count": 91,
      "outputs": [
        {
          "output_type": "execute_result",
          "data": {
            "text/html": [
              "<div>\n",
              "<style scoped>\n",
              "    .dataframe tbody tr th:only-of-type {\n",
              "        vertical-align: middle;\n",
              "    }\n",
              "\n",
              "    .dataframe tbody tr th {\n",
              "        vertical-align: top;\n",
              "    }\n",
              "\n",
              "    .dataframe thead th {\n",
              "        text-align: right;\n",
              "    }\n",
              "</style>\n",
              "<table border=\"1\" class=\"dataframe\">\n",
              "  <thead>\n",
              "    <tr style=\"text-align: right;\">\n",
              "      <th></th>\n",
              "      <th>ID</th>\n",
              "      <th>Day_No</th>\n",
              "      <th>Course_ID</th>\n",
              "      <th>Course_Domain</th>\n",
              "      <th>Course_Type</th>\n",
              "      <th>Short_Promotion</th>\n",
              "      <th>Public_Holiday</th>\n",
              "      <th>Long_Promotion</th>\n",
              "      <th>User_Traffic</th>\n",
              "      <th>Competition_Metric</th>\n",
              "      <th>Sales</th>\n",
              "      <th>Saleslag_1</th>\n",
              "      <th>Saleslag_2</th>\n",
              "    </tr>\n",
              "  </thead>\n",
              "  <tbody>\n",
              "    <tr>\n",
              "      <th>0</th>\n",
              "      <td>1</td>\n",
              "      <td>1</td>\n",
              "      <td>1</td>\n",
              "      <td>Development</td>\n",
              "      <td>Course</td>\n",
              "      <td>0</td>\n",
              "      <td>1</td>\n",
              "      <td>1</td>\n",
              "      <td>11004.0</td>\n",
              "      <td>0.007</td>\n",
              "      <td>81.0</td>\n",
              "      <td>NaN</td>\n",
              "      <td>NaN</td>\n",
              "    </tr>\n",
              "    <tr>\n",
              "      <th>1</th>\n",
              "      <td>2</td>\n",
              "      <td>2</td>\n",
              "      <td>1</td>\n",
              "      <td>Development</td>\n",
              "      <td>Course</td>\n",
              "      <td>0</td>\n",
              "      <td>0</td>\n",
              "      <td>1</td>\n",
              "      <td>13650.0</td>\n",
              "      <td>0.007</td>\n",
              "      <td>79.0</td>\n",
              "      <td>81.0</td>\n",
              "      <td>NaN</td>\n",
              "    </tr>\n",
              "    <tr>\n",
              "      <th>2</th>\n",
              "      <td>3</td>\n",
              "      <td>3</td>\n",
              "      <td>1</td>\n",
              "      <td>Development</td>\n",
              "      <td>Course</td>\n",
              "      <td>0</td>\n",
              "      <td>0</td>\n",
              "      <td>1</td>\n",
              "      <td>11655.0</td>\n",
              "      <td>0.007</td>\n",
              "      <td>75.0</td>\n",
              "      <td>79.0</td>\n",
              "      <td>81.0</td>\n",
              "    </tr>\n",
              "    <tr>\n",
              "      <th>3</th>\n",
              "      <td>4</td>\n",
              "      <td>4</td>\n",
              "      <td>1</td>\n",
              "      <td>Development</td>\n",
              "      <td>Course</td>\n",
              "      <td>0</td>\n",
              "      <td>0</td>\n",
              "      <td>1</td>\n",
              "      <td>12054.0</td>\n",
              "      <td>0.007</td>\n",
              "      <td>80.0</td>\n",
              "      <td>75.0</td>\n",
              "      <td>79.0</td>\n",
              "    </tr>\n",
              "    <tr>\n",
              "      <th>4</th>\n",
              "      <td>5</td>\n",
              "      <td>5</td>\n",
              "      <td>1</td>\n",
              "      <td>Development</td>\n",
              "      <td>Course</td>\n",
              "      <td>0</td>\n",
              "      <td>0</td>\n",
              "      <td>1</td>\n",
              "      <td>6804.0</td>\n",
              "      <td>0.007</td>\n",
              "      <td>41.0</td>\n",
              "      <td>80.0</td>\n",
              "      <td>75.0</td>\n",
              "    </tr>\n",
              "    <tr>\n",
              "      <th>...</th>\n",
              "      <td>...</td>\n",
              "      <td>...</td>\n",
              "      <td>...</td>\n",
              "      <td>...</td>\n",
              "      <td>...</td>\n",
              "      <td>...</td>\n",
              "      <td>...</td>\n",
              "      <td>...</td>\n",
              "      <td>...</td>\n",
              "      <td>...</td>\n",
              "      <td>...</td>\n",
              "      <td>...</td>\n",
              "      <td>...</td>\n",
              "    </tr>\n",
              "    <tr>\n",
              "      <th>548082</th>\n",
              "      <td>548083</td>\n",
              "      <td>938</td>\n",
              "      <td>600</td>\n",
              "      <td>Software Marketing</td>\n",
              "      <td>Program</td>\n",
              "      <td>1</td>\n",
              "      <td>0</td>\n",
              "      <td>1</td>\n",
              "      <td>NaN</td>\n",
              "      <td>0.070</td>\n",
              "      <td>NaN</td>\n",
              "      <td>NaN</td>\n",
              "      <td>NaN</td>\n",
              "    </tr>\n",
              "    <tr>\n",
              "      <th>548083</th>\n",
              "      <td>548084</td>\n",
              "      <td>939</td>\n",
              "      <td>600</td>\n",
              "      <td>Software Marketing</td>\n",
              "      <td>Program</td>\n",
              "      <td>1</td>\n",
              "      <td>0</td>\n",
              "      <td>1</td>\n",
              "      <td>NaN</td>\n",
              "      <td>0.070</td>\n",
              "      <td>NaN</td>\n",
              "      <td>NaN</td>\n",
              "      <td>NaN</td>\n",
              "    </tr>\n",
              "    <tr>\n",
              "      <th>548084</th>\n",
              "      <td>548085</td>\n",
              "      <td>940</td>\n",
              "      <td>600</td>\n",
              "      <td>Software Marketing</td>\n",
              "      <td>Program</td>\n",
              "      <td>1</td>\n",
              "      <td>0</td>\n",
              "      <td>1</td>\n",
              "      <td>NaN</td>\n",
              "      <td>0.070</td>\n",
              "      <td>NaN</td>\n",
              "      <td>NaN</td>\n",
              "      <td>NaN</td>\n",
              "    </tr>\n",
              "    <tr>\n",
              "      <th>548085</th>\n",
              "      <td>548086</td>\n",
              "      <td>941</td>\n",
              "      <td>600</td>\n",
              "      <td>Software Marketing</td>\n",
              "      <td>Program</td>\n",
              "      <td>1</td>\n",
              "      <td>0</td>\n",
              "      <td>1</td>\n",
              "      <td>NaN</td>\n",
              "      <td>0.070</td>\n",
              "      <td>NaN</td>\n",
              "      <td>NaN</td>\n",
              "      <td>NaN</td>\n",
              "    </tr>\n",
              "    <tr>\n",
              "      <th>548086</th>\n",
              "      <td>548087</td>\n",
              "      <td>942</td>\n",
              "      <td>600</td>\n",
              "      <td>Software Marketing</td>\n",
              "      <td>Program</td>\n",
              "      <td>1</td>\n",
              "      <td>0</td>\n",
              "      <td>1</td>\n",
              "      <td>NaN</td>\n",
              "      <td>0.070</td>\n",
              "      <td>NaN</td>\n",
              "      <td>NaN</td>\n",
              "      <td>NaN</td>\n",
              "    </tr>\n",
              "  </tbody>\n",
              "</table>\n",
              "<p>548087 rows × 13 columns</p>\n",
              "</div>"
            ],
            "text/plain": [
              "            ID  Day_No  Course_ID  ... Sales Saleslag_1  Saleslag_2\n",
              "0            1       1          1  ...  81.0        NaN         NaN\n",
              "1            2       2          1  ...  79.0       81.0         NaN\n",
              "2            3       3          1  ...  75.0       79.0        81.0\n",
              "3            4       4          1  ...  80.0       75.0        79.0\n",
              "4            5       5          1  ...  41.0       80.0        75.0\n",
              "...        ...     ...        ...  ...   ...        ...         ...\n",
              "548082  548083     938        600  ...   NaN        NaN         NaN\n",
              "548083  548084     939        600  ...   NaN        NaN         NaN\n",
              "548084  548085     940        600  ...   NaN        NaN         NaN\n",
              "548085  548086     941        600  ...   NaN        NaN         NaN\n",
              "548086  548087     942        600  ...   NaN        NaN         NaN\n",
              "\n",
              "[548087 rows x 13 columns]"
            ]
          },
          "metadata": {
            "tags": []
          },
          "execution_count": 91
        }
      ]
    },
    {
      "cell_type": "code",
      "metadata": {
        "id": "7-DICVpREoxf",
        "colab_type": "code",
        "colab": {
          "base_uri": "https://localhost:8080/",
          "height": 384
        },
        "outputId": "e221fe7e-3272-44a2-adcb-16eaf45e22dd"
      },
      "source": [
        "cutoff = all.loc[(all.index < 512087) & (all.iloc[:, 0].str.contains(r'^[4-6][A-z]*[0-9]'))].index[1]\n",
        "\n",
        "# Using loc, not iloc, because we have the actual index\n",
        "df1 = all.loc[:cutoff]\n",
        "df1 = all.loc[cutoff:]"
      ],
      "execution_count": 94,
      "outputs": [
        {
          "output_type": "error",
          "ename": "AttributeError",
          "evalue": "ignored",
          "traceback": [
            "\u001b[0;31m---------------------------------------------------------------------------\u001b[0m",
            "\u001b[0;31mAttributeError\u001b[0m                            Traceback (most recent call last)",
            "\u001b[0;32m<ipython-input-94-a51c952cc41a>\u001b[0m in \u001b[0;36m<module>\u001b[0;34m()\u001b[0m\n\u001b[0;32m----> 1\u001b[0;31m \u001b[0mcutoff\u001b[0m \u001b[0;34m=\u001b[0m \u001b[0mall\u001b[0m\u001b[0;34m.\u001b[0m\u001b[0mloc\u001b[0m\u001b[0;34m[\u001b[0m\u001b[0;34m(\u001b[0m\u001b[0mall\u001b[0m\u001b[0;34m.\u001b[0m\u001b[0mindex\u001b[0m \u001b[0;34m<\u001b[0m \u001b[0;36m512087\u001b[0m\u001b[0;34m)\u001b[0m \u001b[0;34m&\u001b[0m \u001b[0;34m(\u001b[0m\u001b[0mall\u001b[0m\u001b[0;34m.\u001b[0m\u001b[0miloc\u001b[0m\u001b[0;34m[\u001b[0m\u001b[0;34m:\u001b[0m\u001b[0;34m,\u001b[0m \u001b[0;36m0\u001b[0m\u001b[0;34m]\u001b[0m\u001b[0;34m.\u001b[0m\u001b[0mstr\u001b[0m\u001b[0;34m.\u001b[0m\u001b[0mcontains\u001b[0m\u001b[0;34m(\u001b[0m\u001b[0;34mr'^[4-6][A-z]*[0-9]'\u001b[0m\u001b[0;34m)\u001b[0m\u001b[0;34m)\u001b[0m\u001b[0;34m]\u001b[0m\u001b[0;34m.\u001b[0m\u001b[0mindex\u001b[0m\u001b[0;34m[\u001b[0m\u001b[0;36m1\u001b[0m\u001b[0;34m]\u001b[0m\u001b[0;34m\u001b[0m\u001b[0;34m\u001b[0m\u001b[0m\n\u001b[0m\u001b[1;32m      2\u001b[0m \u001b[0;34m\u001b[0m\u001b[0m\n\u001b[1;32m      3\u001b[0m \u001b[0;31m# Using loc, not iloc, because we have the actual index\u001b[0m\u001b[0;34m\u001b[0m\u001b[0;34m\u001b[0m\u001b[0;34m\u001b[0m\u001b[0m\n\u001b[1;32m      4\u001b[0m \u001b[0mdf1\u001b[0m \u001b[0;34m=\u001b[0m \u001b[0mall\u001b[0m\u001b[0;34m.\u001b[0m\u001b[0mloc\u001b[0m\u001b[0;34m[\u001b[0m\u001b[0;34m:\u001b[0m\u001b[0mcutoff\u001b[0m\u001b[0;34m]\u001b[0m\u001b[0;34m\u001b[0m\u001b[0;34m\u001b[0m\u001b[0m\n\u001b[1;32m      5\u001b[0m \u001b[0mdf1\u001b[0m \u001b[0;34m=\u001b[0m \u001b[0mall\u001b[0m\u001b[0;34m.\u001b[0m\u001b[0mloc\u001b[0m\u001b[0;34m[\u001b[0m\u001b[0mcutoff\u001b[0m\u001b[0;34m:\u001b[0m\u001b[0;34m]\u001b[0m\u001b[0;34m\u001b[0m\u001b[0;34m\u001b[0m\u001b[0m\n",
            "\u001b[0;32m/usr/local/lib/python3.6/dist-packages/pandas/core/generic.py\u001b[0m in \u001b[0;36m__getattr__\u001b[0;34m(self, name)\u001b[0m\n\u001b[1;32m   5268\u001b[0m             \u001b[0;32mor\u001b[0m \u001b[0mname\u001b[0m \u001b[0;32min\u001b[0m \u001b[0mself\u001b[0m\u001b[0;34m.\u001b[0m\u001b[0m_accessors\u001b[0m\u001b[0;34m\u001b[0m\u001b[0;34m\u001b[0m\u001b[0m\n\u001b[1;32m   5269\u001b[0m         ):\n\u001b[0;32m-> 5270\u001b[0;31m             \u001b[0;32mreturn\u001b[0m \u001b[0mobject\u001b[0m\u001b[0;34m.\u001b[0m\u001b[0m__getattribute__\u001b[0m\u001b[0;34m(\u001b[0m\u001b[0mself\u001b[0m\u001b[0;34m,\u001b[0m \u001b[0mname\u001b[0m\u001b[0;34m)\u001b[0m\u001b[0;34m\u001b[0m\u001b[0;34m\u001b[0m\u001b[0m\n\u001b[0m\u001b[1;32m   5271\u001b[0m         \u001b[0;32melse\u001b[0m\u001b[0;34m:\u001b[0m\u001b[0;34m\u001b[0m\u001b[0;34m\u001b[0m\u001b[0m\n\u001b[1;32m   5272\u001b[0m             \u001b[0;32mif\u001b[0m \u001b[0mself\u001b[0m\u001b[0;34m.\u001b[0m\u001b[0m_info_axis\u001b[0m\u001b[0;34m.\u001b[0m\u001b[0m_can_hold_identifiers_and_holds_name\u001b[0m\u001b[0;34m(\u001b[0m\u001b[0mname\u001b[0m\u001b[0;34m)\u001b[0m\u001b[0;34m:\u001b[0m\u001b[0;34m\u001b[0m\u001b[0;34m\u001b[0m\u001b[0m\n",
            "\u001b[0;32m/usr/local/lib/python3.6/dist-packages/pandas/core/accessor.py\u001b[0m in \u001b[0;36m__get__\u001b[0;34m(self, obj, cls)\u001b[0m\n\u001b[1;32m    185\u001b[0m             \u001b[0;31m# we're accessing the attribute of the class, i.e., Dataset.geo\u001b[0m\u001b[0;34m\u001b[0m\u001b[0;34m\u001b[0m\u001b[0;34m\u001b[0m\u001b[0m\n\u001b[1;32m    186\u001b[0m             \u001b[0;32mreturn\u001b[0m \u001b[0mself\u001b[0m\u001b[0;34m.\u001b[0m\u001b[0m_accessor\u001b[0m\u001b[0;34m\u001b[0m\u001b[0;34m\u001b[0m\u001b[0m\n\u001b[0;32m--> 187\u001b[0;31m         \u001b[0maccessor_obj\u001b[0m \u001b[0;34m=\u001b[0m \u001b[0mself\u001b[0m\u001b[0;34m.\u001b[0m\u001b[0m_accessor\u001b[0m\u001b[0;34m(\u001b[0m\u001b[0mobj\u001b[0m\u001b[0;34m)\u001b[0m\u001b[0;34m\u001b[0m\u001b[0;34m\u001b[0m\u001b[0m\n\u001b[0m\u001b[1;32m    188\u001b[0m         \u001b[0;31m# Replace the property with the accessor object. Inspired by:\u001b[0m\u001b[0;34m\u001b[0m\u001b[0;34m\u001b[0m\u001b[0;34m\u001b[0m\u001b[0m\n\u001b[1;32m    189\u001b[0m         \u001b[0;31m# http://www.pydanny.com/cached-property.html\u001b[0m\u001b[0;34m\u001b[0m\u001b[0;34m\u001b[0m\u001b[0;34m\u001b[0m\u001b[0m\n",
            "\u001b[0;32m/usr/local/lib/python3.6/dist-packages/pandas/core/strings.py\u001b[0m in \u001b[0;36m__init__\u001b[0;34m(self, data)\u001b[0m\n\u001b[1;32m   2039\u001b[0m \u001b[0;34m\u001b[0m\u001b[0m\n\u001b[1;32m   2040\u001b[0m     \u001b[0;32mdef\u001b[0m \u001b[0m__init__\u001b[0m\u001b[0;34m(\u001b[0m\u001b[0mself\u001b[0m\u001b[0;34m,\u001b[0m \u001b[0mdata\u001b[0m\u001b[0;34m)\u001b[0m\u001b[0;34m:\u001b[0m\u001b[0;34m\u001b[0m\u001b[0;34m\u001b[0m\u001b[0m\n\u001b[0;32m-> 2041\u001b[0;31m         \u001b[0mself\u001b[0m\u001b[0;34m.\u001b[0m\u001b[0m_inferred_dtype\u001b[0m \u001b[0;34m=\u001b[0m \u001b[0mself\u001b[0m\u001b[0;34m.\u001b[0m\u001b[0m_validate\u001b[0m\u001b[0;34m(\u001b[0m\u001b[0mdata\u001b[0m\u001b[0;34m)\u001b[0m\u001b[0;34m\u001b[0m\u001b[0;34m\u001b[0m\u001b[0m\n\u001b[0m\u001b[1;32m   2042\u001b[0m         \u001b[0mself\u001b[0m\u001b[0;34m.\u001b[0m\u001b[0m_is_categorical\u001b[0m \u001b[0;34m=\u001b[0m \u001b[0mis_categorical_dtype\u001b[0m\u001b[0;34m(\u001b[0m\u001b[0mdata\u001b[0m\u001b[0;34m)\u001b[0m\u001b[0;34m\u001b[0m\u001b[0;34m\u001b[0m\u001b[0m\n\u001b[1;32m   2043\u001b[0m         \u001b[0mself\u001b[0m\u001b[0;34m.\u001b[0m\u001b[0m_is_string\u001b[0m \u001b[0;34m=\u001b[0m \u001b[0mdata\u001b[0m\u001b[0;34m.\u001b[0m\u001b[0mdtype\u001b[0m\u001b[0;34m.\u001b[0m\u001b[0mname\u001b[0m \u001b[0;34m==\u001b[0m \u001b[0;34m\"string\"\u001b[0m\u001b[0;34m\u001b[0m\u001b[0;34m\u001b[0m\u001b[0m\n",
            "\u001b[0;32m/usr/local/lib/python3.6/dist-packages/pandas/core/strings.py\u001b[0m in \u001b[0;36m_validate\u001b[0;34m(data)\u001b[0m\n\u001b[1;32m   2096\u001b[0m \u001b[0;34m\u001b[0m\u001b[0m\n\u001b[1;32m   2097\u001b[0m         \u001b[0;32mif\u001b[0m \u001b[0minferred_dtype\u001b[0m \u001b[0;32mnot\u001b[0m \u001b[0;32min\u001b[0m \u001b[0mallowed_types\u001b[0m\u001b[0;34m:\u001b[0m\u001b[0;34m\u001b[0m\u001b[0;34m\u001b[0m\u001b[0m\n\u001b[0;32m-> 2098\u001b[0;31m             \u001b[0;32mraise\u001b[0m \u001b[0mAttributeError\u001b[0m\u001b[0;34m(\u001b[0m\u001b[0;34m\"Can only use .str accessor with string values!\"\u001b[0m\u001b[0;34m)\u001b[0m\u001b[0;34m\u001b[0m\u001b[0;34m\u001b[0m\u001b[0m\n\u001b[0m\u001b[1;32m   2099\u001b[0m         \u001b[0;32mreturn\u001b[0m \u001b[0minferred_dtype\u001b[0m\u001b[0;34m\u001b[0m\u001b[0;34m\u001b[0m\u001b[0m\n\u001b[1;32m   2100\u001b[0m \u001b[0;34m\u001b[0m\u001b[0m\n",
            "\u001b[0;31mAttributeError\u001b[0m: Can only use .str accessor with string values!"
          ]
        }
      ]
    },
    {
      "cell_type": "code",
      "metadata": {
        "id": "5H4lhv6iAmT3",
        "colab_type": "code",
        "colab": {
          "base_uri": "https://localhost:8080/",
          "height": 219
        },
        "outputId": "74811b4f-8a5a-4a9c-90bc-8aefcfa84b12"
      },
      "source": [
        "train.tail(5)"
      ],
      "execution_count": 82,
      "outputs": [
        {
          "output_type": "execute_result",
          "data": {
            "text/html": [
              "<div>\n",
              "<style scoped>\n",
              "    .dataframe tbody tr th:only-of-type {\n",
              "        vertical-align: middle;\n",
              "    }\n",
              "\n",
              "    .dataframe tbody tr th {\n",
              "        vertical-align: top;\n",
              "    }\n",
              "\n",
              "    .dataframe thead th {\n",
              "        text-align: right;\n",
              "    }\n",
              "</style>\n",
              "<table border=\"1\" class=\"dataframe\">\n",
              "  <thead>\n",
              "    <tr style=\"text-align: right;\">\n",
              "      <th></th>\n",
              "      <th>ID</th>\n",
              "      <th>Day_No</th>\n",
              "      <th>Course_ID</th>\n",
              "      <th>Course_Domain</th>\n",
              "      <th>Course_Type</th>\n",
              "      <th>Short_Promotion</th>\n",
              "      <th>Public_Holiday</th>\n",
              "      <th>Long_Promotion</th>\n",
              "      <th>User_Traffic</th>\n",
              "      <th>Competition_Metric</th>\n",
              "      <th>Sales</th>\n",
              "      <th>Saleslag_1</th>\n",
              "      <th>Saleslag_2</th>\n",
              "    </tr>\n",
              "  </thead>\n",
              "  <tbody>\n",
              "    <tr>\n",
              "      <th>548022</th>\n",
              "      <td>547141</td>\n",
              "      <td>938</td>\n",
              "      <td>599</td>\n",
              "      <td>Development</td>\n",
              "      <td>Program</td>\n",
              "      <td>1</td>\n",
              "      <td>0</td>\n",
              "      <td>0</td>\n",
              "      <td>NaN</td>\n",
              "      <td>0.122</td>\n",
              "      <td>NaN</td>\n",
              "      <td>NaN</td>\n",
              "      <td>NaN</td>\n",
              "    </tr>\n",
              "    <tr>\n",
              "      <th>548023</th>\n",
              "      <td>547142</td>\n",
              "      <td>939</td>\n",
              "      <td>599</td>\n",
              "      <td>Development</td>\n",
              "      <td>Program</td>\n",
              "      <td>1</td>\n",
              "      <td>0</td>\n",
              "      <td>0</td>\n",
              "      <td>NaN</td>\n",
              "      <td>0.122</td>\n",
              "      <td>NaN</td>\n",
              "      <td>NaN</td>\n",
              "      <td>NaN</td>\n",
              "    </tr>\n",
              "    <tr>\n",
              "      <th>548024</th>\n",
              "      <td>547143</td>\n",
              "      <td>940</td>\n",
              "      <td>599</td>\n",
              "      <td>Development</td>\n",
              "      <td>Program</td>\n",
              "      <td>1</td>\n",
              "      <td>0</td>\n",
              "      <td>0</td>\n",
              "      <td>NaN</td>\n",
              "      <td>0.122</td>\n",
              "      <td>NaN</td>\n",
              "      <td>NaN</td>\n",
              "      <td>NaN</td>\n",
              "    </tr>\n",
              "    <tr>\n",
              "      <th>548025</th>\n",
              "      <td>547144</td>\n",
              "      <td>941</td>\n",
              "      <td>599</td>\n",
              "      <td>Development</td>\n",
              "      <td>Program</td>\n",
              "      <td>1</td>\n",
              "      <td>0</td>\n",
              "      <td>0</td>\n",
              "      <td>NaN</td>\n",
              "      <td>0.122</td>\n",
              "      <td>NaN</td>\n",
              "      <td>NaN</td>\n",
              "      <td>NaN</td>\n",
              "    </tr>\n",
              "    <tr>\n",
              "      <th>548026</th>\n",
              "      <td>547145</td>\n",
              "      <td>942</td>\n",
              "      <td>599</td>\n",
              "      <td>Development</td>\n",
              "      <td>Program</td>\n",
              "      <td>1</td>\n",
              "      <td>0</td>\n",
              "      <td>0</td>\n",
              "      <td>NaN</td>\n",
              "      <td>0.122</td>\n",
              "      <td>NaN</td>\n",
              "      <td>NaN</td>\n",
              "      <td>NaN</td>\n",
              "    </tr>\n",
              "  </tbody>\n",
              "</table>\n",
              "</div>"
            ],
            "text/plain": [
              "            ID  Day_No  Course_ID  ... Sales Saleslag_1  Saleslag_2\n",
              "548022  547141     938        599  ...   NaN        NaN         NaN\n",
              "548023  547142     939        599  ...   NaN        NaN         NaN\n",
              "548024  547143     940        599  ...   NaN        NaN         NaN\n",
              "548025  547144     941        599  ...   NaN        NaN         NaN\n",
              "548026  547145     942        599  ...   NaN        NaN         NaN\n",
              "\n",
              "[5 rows x 13 columns]"
            ]
          },
          "metadata": {
            "tags": []
          },
          "execution_count": 82
        }
      ]
    },
    {
      "cell_type": "code",
      "metadata": {
        "id": "zpyFtx-Xx2iv",
        "colab_type": "code",
        "colab": {}
      },
      "source": [
        "def train_test(df, split_point):\n",
        "  train_features = df.drop(['Sales'], axis = 1).head(len(df)-split_point)\n",
        "  train_labels = df['Sales'].head(len(df)-split_point)\n",
        "  val_features = df.drop(['Sales'], axis = 1).tail(split_point)\n",
        "  val_labels = df['Sales'].tail(split_point)\n",
        "\n",
        "  return [train_features, train_labels, val_features, val_labels]"
      ],
      "execution_count": 0,
      "outputs": []
    },
    {
      "cell_type": "code",
      "metadata": {
        "id": "zCLlQTb-yVnR",
        "colab_type": "code",
        "colab": {}
      },
      "source": [
        "train_features, train_labels, val_features, val_labels = train_test(train, 4000)"
      ],
      "execution_count": 0,
      "outputs": []
    },
    {
      "cell_type": "code",
      "metadata": {
        "id": "TsdhnWxayc13",
        "colab_type": "code",
        "colab": {}
      },
      "source": [
        "# def predictions_plot(model, features, labels, ax, drop_columns=['Sales']):\n",
        "\n",
        "#   predictions = model.predict(features.drop(drop_columns, axis=1))\n",
        "#   error = MSLE(labels, predictions)\n",
        "#   title='MSLE:' + str(round(errors, 2)) \n",
        "        \n",
        "#   pd.DataFrame({'labels': labels, \n",
        "#                 'predictions': predictions, \n",
        "#                 'Sales': features['Sales']}).plot(title=title, ax=ax, x='Sales')\n",
        "\n",
        "# def check_predictions(model, train_features, train_labels, val_features, val_labels, drop_columns=['Sales']):\n",
        "#   fig,axes  = plt.subplots(nrows=2, ncols=2, figsize=(10,10))\n",
        "#   fig.tight_layout(pad=6.0)\n",
        "#   predictions_plot(model, train_features, train_labels, axes[0,0], drop_columns=drop_columns)\n",
        "#   predictions_plot(model, val_features, val_labels, axes[0,1], drop_columns=drop_columns)\n",
        "#   predictions_plot(model, train_features.tail(7*48), train_labels.tail(7*48), axes[1,0], drop_columns=drop_columns)\n",
        "#   predictions_plot(model, val_features.head(7*48), val_labels.head(7*48), axes[1,1], drop_columns=drop_columns)"
      ],
      "execution_count": 0,
      "outputs": []
    },
    {
      "cell_type": "code",
      "metadata": {
        "id": "v7aVHeJ27RBR",
        "colab_type": "code",
        "colab": {}
      },
      "source": [
        "def predictions_plot(model, features, labels, ax):\n",
        "\n",
        "  predictions = model.predict(features)\n",
        "  error = MSLE(labels, predictions)\n",
        "  title='MSLE:' + str(round(errors, 2)) \n",
        "        \n",
        "  pd.DataFrame({'labels': labels, \n",
        "                'predictions': predictions, \n",
        "                }).plot(title=title, ax=ax, x='Sales')\n",
        "\n",
        "def check_predictions(model, train_features, train_labels, val_features, val_labels):\n",
        "  fig,axes  = plt.subplots(nrows=2, ncols=2, figsize=(10,10))\n",
        "  fig.tight_layout(pad=6.0)\n",
        "  predictions_plot(model, train_features, train_labels, axes[0,0])\n",
        "  predictions_plot(model, val_features, val_labels, axes[0,1])\n",
        "  predictions_plot(model, train_features.tail(7*48), train_labels.tail(7*48), axes[1,0])\n",
        "  predictions_plot(model, val_features.head(7*48), val_labels.head(7*48), axes[1,1])"
      ],
      "execution_count": 0,
      "outputs": []
    },
    {
      "cell_type": "code",
      "metadata": {
        "id": "y5nTgSxez3I-",
        "colab_type": "code",
        "colab": {}
      },
      "source": [
        "train_features['Course_ID'] = train_features['Course_ID'].astype('category')"
      ],
      "execution_count": 0,
      "outputs": []
    },
    {
      "cell_type": "code",
      "metadata": {
        "id": "IjSjCuL92-V9",
        "colab_type": "code",
        "colab": {}
      },
      "source": [
        "train_features['Course_Domain'] = train_features['Course_Domain'].astype('category')\n",
        "train_features['Course_Type'] = train_features['Course_Type'].astype('category')"
      ],
      "execution_count": 0,
      "outputs": []
    },
    {
      "cell_type": "code",
      "metadata": {
        "id": "vK3abTK_1ELA",
        "colab_type": "code",
        "colab": {
          "base_uri": "https://localhost:8080/",
          "height": 280
        },
        "outputId": "cb705e44-da87-4cd7-e1df-47f922bb96a4"
      },
      "source": [
        "train_features.info()"
      ],
      "execution_count": 21,
      "outputs": [
        {
          "output_type": "stream",
          "text": [
            "<class 'pandas.core.frame.DataFrame'>\n",
            "RangeIndex: 508087 entries, 0 to 508086\n",
            "Data columns (total 10 columns):\n",
            "ID                    508087 non-null int64\n",
            "Day_No                508087 non-null int64\n",
            "Course_ID             508087 non-null category\n",
            "Course_Domain         508087 non-null category\n",
            "Course_Type           508087 non-null category\n",
            "Short_Promotion       508087 non-null int64\n",
            "Public_Holiday        508087 non-null int64\n",
            "Long_Promotion        508087 non-null int64\n",
            "User_Traffic          508087 non-null int64\n",
            "Competition_Metric    506323 non-null float64\n",
            "dtypes: category(3), float64(1), int64(6)\n",
            "memory usage: 29.1 MB\n"
          ],
          "name": "stdout"
        }
      ]
    },
    {
      "cell_type": "code",
      "metadata": {
        "id": "RxxfF7iW0_qP",
        "colab_type": "code",
        "colab": {}
      },
      "source": [
        "categorical_features = [\"Course_ID\", \"Course_Domain\",\"Course_Type\"]"
      ],
      "execution_count": 0,
      "outputs": []
    },
    {
      "cell_type": "code",
      "metadata": {
        "id": "IHXouTnB1jB4",
        "colab_type": "code",
        "colab": {}
      },
      "source": [
        "val_features['Course_ID'] =  val_features['Course_ID'].astype('category')\n",
        "val_features['Course_Domain'] =val_features['Course_Domain'].astype('category')\n",
        "val_features['Course_Type'] =val_features['Course_Type'].astype('category')"
      ],
      "execution_count": 0,
      "outputs": []
    },
    {
      "cell_type": "code",
      "metadata": {
        "id": "evZ_nQPM3kve",
        "colab_type": "code",
        "colab": {
          "base_uri": "https://localhost:8080/",
          "height": 316
        },
        "outputId": "6a5c7a7d-ff7c-46ca-d60c-bfd8c541e2e7"
      },
      "source": [
        "val_features.info()"
      ],
      "execution_count": 21,
      "outputs": [
        {
          "output_type": "stream",
          "text": [
            "<class 'pandas.core.frame.DataFrame'>\n",
            "RangeIndex: 4000 entries, 508087 to 512086\n",
            "Data columns (total 10 columns):\n",
            " #   Column              Non-Null Count  Dtype   \n",
            "---  ------              --------------  -----   \n",
            " 0   ID                  4000 non-null   int64   \n",
            " 1   Day_No              4000 non-null   int64   \n",
            " 2   Course_ID           4000 non-null   category\n",
            " 3   Course_Domain       4000 non-null   category\n",
            " 4   Course_Type         4000 non-null   category\n",
            " 5   Short_Promotion     4000 non-null   int64   \n",
            " 6   Public_Holiday      4000 non-null   int64   \n",
            " 7   Long_Promotion      4000 non-null   int64   \n",
            " 8   User_Traffic        4000 non-null   int64   \n",
            " 9   Competition_Metric  4000 non-null   float64 \n",
            "dtypes: category(3), float64(1), int64(6)\n",
            "memory usage: 231.0 KB\n"
          ],
          "name": "stdout"
        }
      ]
    },
    {
      "cell_type": "code",
      "metadata": {
        "id": "EV4hT_UrzkRV",
        "colab_type": "code",
        "colab": {}
      },
      "source": [
        "LGB_PARAMS = {'n_estimators': 10000,\n",
        "                    'boosting_type': 'gbdt',\n",
        "                    'objective': 'regression',\n",
        "                    'metric': 'msle',\n",
        "                    'subsample': 1,\n",
        "                    'subsample_freq': 1,\n",
        "                    'learning_rate': 0.15,\n",
        "                    'feature_fraction': 1,\n",
        "                    'max_depth': 4,\n",
        "                    #'num_leaves': 10,\n",
        "                    #'lambda_l1': 10,  \n",
        "                    #'lambda_l2': 10,\n",
        "                    #'early_stopping_rounds': 200,\n",
        "                    'verbose': 1,\n",
        "                   'random_seed': 42,\n",
        "                    'categorical_feature' :   categorical_features \n",
        "                    }"
      ],
      "execution_count": 0,
      "outputs": []
    },
    {
      "cell_type": "code",
      "metadata": {
        "id": "DG4kZPew1mWN",
        "colab_type": "code",
        "colab": {}
      },
      "source": [
        "import lightgbm as ltb"
      ],
      "execution_count": 0,
      "outputs": []
    },
    {
      "cell_type": "code",
      "metadata": {
        "id": "VBFC6-4o2CrY",
        "colab_type": "code",
        "colab": {}
      },
      "source": [
        "# train_data1 = ltb.Dataset(train_features.drop(['User_Traffic'], axis=1), label=train_labels,categorical_feature=categorical_features,free_raw_data= False)\n",
        "# test_data1 = ltb.Dataset(val_features.drop(['User_Traffic'], axis=1), label=val_labels,categorical_feature=categorical_features, free_raw_data= False)"
      ],
      "execution_count": 0,
      "outputs": []
    },
    {
      "cell_type": "code",
      "metadata": {
        "id": "1wS6q6bO2uM-",
        "colab_type": "code",
        "colab": {}
      },
      "source": [
        ""
      ],
      "execution_count": 0,
      "outputs": []
    },
    {
      "cell_type": "code",
      "metadata": {
        "id": "UJ6LhNIZ2fHH",
        "colab_type": "code",
        "colab": {
          "base_uri": "https://localhost:8080/",
          "height": 230
        },
        "outputId": "1060c96c-c045-470e-e6e4-93960a74091b"
      },
      "source": [
        "# %%time\n",
        "# l_model_cf = ltb.train(LGB_PARAMS,\n",
        "#                        train_data1,\n",
        "#                        valid_sets=test_data1  , verbose_eval=False\n",
        "#                         #categorical_feature=categorical_features\n",
        "#                        )"
      ],
      "execution_count": 156,
      "outputs": [
        {
          "output_type": "stream",
          "text": [
            "/usr/local/lib/python3.6/dist-packages/lightgbm/engine.py:118: UserWarning: Found `n_estimators` in params. Will use it instead of argument\n",
            "  warnings.warn(\"Found `{}` in params. Will use it instead of argument\".format(alias))\n",
            "/usr/local/lib/python3.6/dist-packages/lightgbm/basic.py:1205: UserWarning: Using categorical_feature in Dataset.\n",
            "  warnings.warn('Using categorical_feature in Dataset.')\n",
            "/usr/local/lib/python3.6/dist-packages/lightgbm/basic.py:741: UserWarning: categorical_feature keyword has been found in `params` and will be ignored.\n",
            "Please use categorical_feature argument of the Dataset constructor to pass this parameter.\n",
            "  .format(key))\n",
            "/usr/local/lib/python3.6/dist-packages/lightgbm/basic.py:762: UserWarning: categorical_feature in param dict is overridden.\n",
            "  warnings.warn('categorical_feature in param dict is overridden.')\n"
          ],
          "name": "stderr"
        },
        {
          "output_type": "stream",
          "text": [
            "CPU times: user 6min 56s, sys: 1.8 s, total: 6min 58s\n",
            "Wall time: 3min 38s\n"
          ],
          "name": "stdout"
        }
      ]
    },
    {
      "cell_type": "code",
      "metadata": {
        "id": "jKhQEB202o75",
        "colab_type": "code",
        "colab": {
          "base_uri": "https://localhost:8080/",
          "height": 52
        },
        "outputId": "263213f8-c96d-4bc7-fe1d-fe11df83beb5"
      },
      "source": [
        "#  val_pred_lgb_cf = l_model_cf.predict(val_features.drop(['User_Traffic'], axis=1))\n",
        "\n",
        "# val_pred_lgb_cf"
      ],
      "execution_count": 157,
      "outputs": [
        {
          "output_type": "execute_result",
          "data": {
            "text/plain": [
              "array([ 65.07710306,  65.07710306, 130.725199  , ...,  95.71117488,\n",
              "        60.48373174, 135.88413006])"
            ]
          },
          "metadata": {
            "tags": []
          },
          "execution_count": 157
        }
      ]
    },
    {
      "cell_type": "code",
      "metadata": {
        "id": "SGgZnfDaQd6D",
        "colab_type": "code",
        "colab": {
          "base_uri": "https://localhost:8080/",
          "height": 70
        },
        "outputId": "765c3ad2-9589-48ae-c2a3-de5112da4073"
      },
      "source": [
        "# print (MSLE(val_labels,val_pred_lgb_cf))"
      ],
      "execution_count": 158,
      "outputs": [
        {
          "output_type": "stream",
          "text": [
            "439.61962475776016\n"
          ],
          "name": "stdout"
        },
        {
          "output_type": "stream",
          "text": [
            "/usr/local/lib/python3.6/dist-packages/ipykernel_launcher.py:3: RuntimeWarning: invalid value encountered in log1p\n",
            "  This is separate from the ipykernel package so we can avoid doing imports until\n"
          ],
          "name": "stderr"
        }
      ]
    },
    {
      "cell_type": "code",
      "metadata": {
        "id": "gE664kRHTMAv",
        "colab_type": "code",
        "colab": {}
      },
      "source": [
        "# if any(x<0 for x in val_pred_lgb_cf) == False:\n",
        "#     print(val_pred_lgb_cf)"
      ],
      "execution_count": 0,
      "outputs": []
    },
    {
      "cell_type": "code",
      "metadata": {
        "id": "9PlLPhKH6hRO",
        "colab_type": "code",
        "colab": {}
      },
      "source": [
        "#check_predictions(l_model_cf, train_features.drop(['User_Traffic'], axis=1), train_labels, val_features.drop(['User_Traffic', 'Competition_Metric'], axis=1), val_labels)"
      ],
      "execution_count": 0,
      "outputs": []
    },
    {
      "cell_type": "code",
      "metadata": {
        "id": "EdoiMaR76k-R",
        "colab_type": "code",
        "colab": {}
      },
      "source": [
        "# test['Course_ID'] =  test['Course_ID'].astype('category')\n",
        "# test['Course_Domain'] =test['Course_Domain'].astype('category')\n",
        "# test['Course_Type'] =test['Course_Type'].astype('category')"
      ],
      "execution_count": 0,
      "outputs": []
    },
    {
      "cell_type": "code",
      "metadata": {
        "id": "9JCQKgQe9Zae",
        "colab_type": "code",
        "colab": {}
      },
      "source": [
        "# test['prediction'] = l_model_cf.predict(test)"
      ],
      "execution_count": 0,
      "outputs": []
    },
    {
      "cell_type": "code",
      "metadata": {
        "id": "svLNaStIALf9",
        "colab_type": "code",
        "colab": {
          "base_uri": "https://localhost:8080/",
          "height": 125
        },
        "outputId": "10d48c46-62c0-483a-e4f0-6bf705353e89"
      },
      "source": [
        " pip install XlsxWriter\n"
      ],
      "execution_count": 39,
      "outputs": [
        {
          "output_type": "stream",
          "text": [
            "Collecting XlsxWriter\n",
            "\u001b[?25l  Downloading https://files.pythonhosted.org/packages/00/1f/2092a81056d36c1b6651a645aa84c1f76bcee03103072d4fe1cb58501d69/XlsxWriter-1.2.8-py2.py3-none-any.whl (141kB)\n",
            "\r\u001b[K     |██▎                             | 10kB 16.1MB/s eta 0:00:01\r\u001b[K     |████▋                           | 20kB 2.1MB/s eta 0:00:01\r\u001b[K     |███████                         | 30kB 3.0MB/s eta 0:00:01\r\u001b[K     |█████████▎                      | 40kB 2.0MB/s eta 0:00:01\r\u001b[K     |███████████▋                    | 51kB 2.5MB/s eta 0:00:01\r\u001b[K     |██████████████                  | 61kB 2.9MB/s eta 0:00:01\r\u001b[K     |████████████████▏               | 71kB 3.4MB/s eta 0:00:01\r\u001b[K     |██████████████████▌             | 81kB 3.8MB/s eta 0:00:01\r\u001b[K     |████████████████████▉           | 92kB 4.3MB/s eta 0:00:01\r\u001b[K     |███████████████████████▏        | 102kB 3.3MB/s eta 0:00:01\r\u001b[K     |█████████████████████████▌      | 112kB 3.3MB/s eta 0:00:01\r\u001b[K     |███████████████████████████▉    | 122kB 3.3MB/s eta 0:00:01\r\u001b[K     |██████████████████████████████  | 133kB 3.3MB/s eta 0:00:01\r\u001b[K     |████████████████████████████████| 143kB 3.3MB/s \n",
            "\u001b[?25hInstalling collected packages: XlsxWriter\n",
            "Successfully installed XlsxWriter-1.2.8\n"
          ],
          "name": "stdout"
        }
      ]
    },
    {
      "cell_type": "code",
      "metadata": {
        "id": "TWDQWCjE_LUv",
        "colab_type": "code",
        "colab": {}
      },
      "source": [
        "import xlsxwriter\n",
        "workbook  = xlsxwriter.Workbook('submit.xlsx')\n",
        "worksheet = workbook.add_worksheet()"
      ],
      "execution_count": 0,
      "outputs": []
    },
    {
      "cell_type": "code",
      "metadata": {
        "id": "VnBXUftJEW7D",
        "colab_type": "code",
        "colab": {
          "base_uri": "https://localhost:8080/",
          "height": 34
        },
        "outputId": "c6518c1e-508b-4ab3-e1b2-71c1a68740a2"
      },
      "source": [
        "from google.colab import drive\n",
        "\n",
        "drive.mount('/gdrive')\n"
      ],
      "execution_count": 41,
      "outputs": [
        {
          "output_type": "stream",
          "text": [
            "Mounted at /gdrive\n"
          ],
          "name": "stdout"
        }
      ]
    },
    {
      "cell_type": "code",
      "metadata": {
        "id": "xqWeol12Ccuf",
        "colab_type": "code",
        "colab": {}
      },
      "source": [
        "# with open('/gdrive/My Drive/datahack_Brian/lightgbm.csv', 'w') as f:\n",
        "#  test.to_csv(f)"
      ],
      "execution_count": 0,
      "outputs": []
    },
    {
      "cell_type": "code",
      "metadata": {
        "id": "jvuN_71JBCt7",
        "colab_type": "code",
        "colab": {}
      },
      "source": [
        ""
      ],
      "execution_count": 0,
      "outputs": []
    },
    {
      "cell_type": "markdown",
      "metadata": {
        "id": "gLGPjQPHWojy",
        "colab_type": "text"
      },
      "source": [
        "Running Catboost"
      ]
    },
    {
      "cell_type": "code",
      "metadata": {
        "id": "s89jJatvHcw6",
        "colab_type": "code",
        "colab": {}
      },
      "source": [
        "def column_index(df, query_cols):\n",
        "    cols = df.columns.values\n",
        "    sidx = np.argsort(cols)\n",
        "    return sidx[np.searchsorted(cols,query_cols,sorter=sidx)]\n",
        "categorical_features_pos = column_index(train_features, categorical_features)"
      ],
      "execution_count": 0,
      "outputs": []
    },
    {
      "cell_type": "code",
      "metadata": {
        "id": "IQZholAAX0LD",
        "colab_type": "code",
        "colab": {
          "base_uri": "https://localhost:8080/",
          "height": 34
        },
        "outputId": "8812458c-390d-45f5-eb26-2478c92e0799"
      },
      "source": [
        "categorical_features_pos"
      ],
      "execution_count": 23,
      "outputs": [
        {
          "output_type": "execute_result",
          "data": {
            "text/plain": [
              "array([2, 3, 4])"
            ]
          },
          "metadata": {
            "tags": []
          },
          "execution_count": 23
        }
      ]
    },
    {
      "cell_type": "code",
      "metadata": {
        "id": "CteNOE3bX3PI",
        "colab_type": "code",
        "colab": {}
      },
      "source": [
        "train_features2=train_features.copy()\n",
        "val_features2=val_features.copy()"
      ],
      "execution_count": 0,
      "outputs": []
    },
    {
      "cell_type": "code",
      "metadata": {
        "id": "bEEd7jTcX_pV",
        "colab_type": "code",
        "colab": {}
      },
      "source": [
        "train_features2['Course_ID'] = train_features2['Course_ID'].astype('str')\n",
        "train_features2['Course_Domain'] = train_features2['Course_Domain'].astype('str')\n",
        "train_features2['Course_Type'] = train_features2['Course_Type'] .astype('str')\n",
        "\n",
        "val_features2['Course_ID'] = val_features2['Course_ID'].astype('str')\n",
        "val_features2['Course_Domain'] = val_features2['Course_Domain'] .astype('str')\n",
        "val_features2['Course_Type'] = val_features2['Course_Type'].astype('str')"
      ],
      "execution_count": 0,
      "outputs": []
    },
    {
      "cell_type": "code",
      "metadata": {
        "id": "3L7EKv34YkGc",
        "colab_type": "code",
        "colab": {
          "base_uri": "https://localhost:8080/",
          "height": 371
        },
        "outputId": "73e0b0c1-4fe8-4488-c041-dd741d2bb438"
      },
      "source": [
        "pip install catboost"
      ],
      "execution_count": 26,
      "outputs": [
        {
          "output_type": "stream",
          "text": [
            "Collecting catboost\n",
            "\u001b[?25l  Downloading https://files.pythonhosted.org/packages/94/ec/12b9a42b2ea7dfe5b602f235692ab2b61ee1334ff34334a15902272869e8/catboost-0.22-cp36-none-manylinux1_x86_64.whl (64.4MB)\n",
            "\u001b[K     |████████████████████████████████| 64.4MB 64kB/s \n",
            "\u001b[?25hRequirement already satisfied: matplotlib in /usr/local/lib/python3.6/dist-packages (from catboost) (3.2.1)\n",
            "Requirement already satisfied: plotly in /usr/local/lib/python3.6/dist-packages (from catboost) (4.4.1)\n",
            "Requirement already satisfied: six in /usr/local/lib/python3.6/dist-packages (from catboost) (1.12.0)\n",
            "Requirement already satisfied: scipy in /usr/local/lib/python3.6/dist-packages (from catboost) (1.4.1)\n",
            "Requirement already satisfied: graphviz in /usr/local/lib/python3.6/dist-packages (from catboost) (0.10.1)\n",
            "Requirement already satisfied: numpy>=1.16.0 in /usr/local/lib/python3.6/dist-packages (from catboost) (1.18.2)\n",
            "Requirement already satisfied: pandas>=0.24.0 in /usr/local/lib/python3.6/dist-packages (from catboost) (1.0.3)\n",
            "Requirement already satisfied: cycler>=0.10 in /usr/local/lib/python3.6/dist-packages (from matplotlib->catboost) (0.10.0)\n",
            "Requirement already satisfied: kiwisolver>=1.0.1 in /usr/local/lib/python3.6/dist-packages (from matplotlib->catboost) (1.1.0)\n",
            "Requirement already satisfied: python-dateutil>=2.1 in /usr/local/lib/python3.6/dist-packages (from matplotlib->catboost) (2.8.1)\n",
            "Requirement already satisfied: pyparsing!=2.0.4,!=2.1.2,!=2.1.6,>=2.0.1 in /usr/local/lib/python3.6/dist-packages (from matplotlib->catboost) (2.4.6)\n",
            "Requirement already satisfied: retrying>=1.3.3 in /usr/local/lib/python3.6/dist-packages (from plotly->catboost) (1.3.3)\n",
            "Requirement already satisfied: pytz>=2017.2 in /usr/local/lib/python3.6/dist-packages (from pandas>=0.24.0->catboost) (2018.9)\n",
            "Requirement already satisfied: setuptools in /usr/local/lib/python3.6/dist-packages (from kiwisolver>=1.0.1->matplotlib->catboost) (46.0.0)\n",
            "Installing collected packages: catboost\n",
            "Successfully installed catboost-0.22\n"
          ],
          "name": "stdout"
        }
      ]
    },
    {
      "cell_type": "code",
      "metadata": {
        "id": "wwLXtv5UqxV3",
        "colab_type": "code",
        "colab": {
          "base_uri": "https://localhost:8080/",
          "height": 430
        },
        "outputId": "739377f3-f018-4e23-ac35-af715b90d40a"
      },
      "source": [
        "train_features2"
      ],
      "execution_count": 27,
      "outputs": [
        {
          "output_type": "execute_result",
          "data": {
            "text/html": [
              "<div>\n",
              "<style scoped>\n",
              "    .dataframe tbody tr th:only-of-type {\n",
              "        vertical-align: middle;\n",
              "    }\n",
              "\n",
              "    .dataframe tbody tr th {\n",
              "        vertical-align: top;\n",
              "    }\n",
              "\n",
              "    .dataframe thead th {\n",
              "        text-align: right;\n",
              "    }\n",
              "</style>\n",
              "<table border=\"1\" class=\"dataframe\">\n",
              "  <thead>\n",
              "    <tr style=\"text-align: right;\">\n",
              "      <th></th>\n",
              "      <th>ID</th>\n",
              "      <th>Day_No</th>\n",
              "      <th>Course_ID</th>\n",
              "      <th>Course_Domain</th>\n",
              "      <th>Course_Type</th>\n",
              "      <th>Short_Promotion</th>\n",
              "      <th>Public_Holiday</th>\n",
              "      <th>Long_Promotion</th>\n",
              "      <th>User_Traffic</th>\n",
              "      <th>Competition_Metric</th>\n",
              "    </tr>\n",
              "  </thead>\n",
              "  <tbody>\n",
              "    <tr>\n",
              "      <th>0</th>\n",
              "      <td>1</td>\n",
              "      <td>1</td>\n",
              "      <td>1</td>\n",
              "      <td>Development</td>\n",
              "      <td>Course</td>\n",
              "      <td>0</td>\n",
              "      <td>1</td>\n",
              "      <td>1</td>\n",
              "      <td>11004</td>\n",
              "      <td>0.007</td>\n",
              "    </tr>\n",
              "    <tr>\n",
              "      <th>1</th>\n",
              "      <td>2</td>\n",
              "      <td>2</td>\n",
              "      <td>1</td>\n",
              "      <td>Development</td>\n",
              "      <td>Course</td>\n",
              "      <td>0</td>\n",
              "      <td>0</td>\n",
              "      <td>1</td>\n",
              "      <td>13650</td>\n",
              "      <td>0.007</td>\n",
              "    </tr>\n",
              "    <tr>\n",
              "      <th>2</th>\n",
              "      <td>3</td>\n",
              "      <td>3</td>\n",
              "      <td>1</td>\n",
              "      <td>Development</td>\n",
              "      <td>Course</td>\n",
              "      <td>0</td>\n",
              "      <td>0</td>\n",
              "      <td>1</td>\n",
              "      <td>11655</td>\n",
              "      <td>0.007</td>\n",
              "    </tr>\n",
              "    <tr>\n",
              "      <th>3</th>\n",
              "      <td>4</td>\n",
              "      <td>4</td>\n",
              "      <td>1</td>\n",
              "      <td>Development</td>\n",
              "      <td>Course</td>\n",
              "      <td>0</td>\n",
              "      <td>0</td>\n",
              "      <td>1</td>\n",
              "      <td>12054</td>\n",
              "      <td>0.007</td>\n",
              "    </tr>\n",
              "    <tr>\n",
              "      <th>4</th>\n",
              "      <td>5</td>\n",
              "      <td>5</td>\n",
              "      <td>1</td>\n",
              "      <td>Development</td>\n",
              "      <td>Course</td>\n",
              "      <td>0</td>\n",
              "      <td>0</td>\n",
              "      <td>1</td>\n",
              "      <td>6804</td>\n",
              "      <td>0.007</td>\n",
              "    </tr>\n",
              "    <tr>\n",
              "      <th>...</th>\n",
              "      <td>...</td>\n",
              "      <td>...</td>\n",
              "      <td>...</td>\n",
              "      <td>...</td>\n",
              "      <td>...</td>\n",
              "      <td>...</td>\n",
              "      <td>...</td>\n",
              "      <td>...</td>\n",
              "      <td>...</td>\n",
              "      <td>...</td>\n",
              "    </tr>\n",
              "    <tr>\n",
              "      <th>508082</th>\n",
              "      <td>543783</td>\n",
              "      <td>406</td>\n",
              "      <td>596</td>\n",
              "      <td>Development</td>\n",
              "      <td>Program</td>\n",
              "      <td>0</td>\n",
              "      <td>0</td>\n",
              "      <td>1</td>\n",
              "      <td>12243</td>\n",
              "      <td>0.070</td>\n",
              "    </tr>\n",
              "    <tr>\n",
              "      <th>508083</th>\n",
              "      <td>543784</td>\n",
              "      <td>407</td>\n",
              "      <td>596</td>\n",
              "      <td>Development</td>\n",
              "      <td>Program</td>\n",
              "      <td>0</td>\n",
              "      <td>0</td>\n",
              "      <td>1</td>\n",
              "      <td>11193</td>\n",
              "      <td>0.070</td>\n",
              "    </tr>\n",
              "    <tr>\n",
              "      <th>508084</th>\n",
              "      <td>543785</td>\n",
              "      <td>408</td>\n",
              "      <td>596</td>\n",
              "      <td>Development</td>\n",
              "      <td>Program</td>\n",
              "      <td>0</td>\n",
              "      <td>0</td>\n",
              "      <td>1</td>\n",
              "      <td>11109</td>\n",
              "      <td>0.070</td>\n",
              "    </tr>\n",
              "    <tr>\n",
              "      <th>508085</th>\n",
              "      <td>543786</td>\n",
              "      <td>409</td>\n",
              "      <td>596</td>\n",
              "      <td>Development</td>\n",
              "      <td>Program</td>\n",
              "      <td>0</td>\n",
              "      <td>0</td>\n",
              "      <td>1</td>\n",
              "      <td>12327</td>\n",
              "      <td>0.070</td>\n",
              "    </tr>\n",
              "    <tr>\n",
              "      <th>508086</th>\n",
              "      <td>543787</td>\n",
              "      <td>410</td>\n",
              "      <td>596</td>\n",
              "      <td>Development</td>\n",
              "      <td>Program</td>\n",
              "      <td>0</td>\n",
              "      <td>0</td>\n",
              "      <td>1</td>\n",
              "      <td>12033</td>\n",
              "      <td>0.070</td>\n",
              "    </tr>\n",
              "  </tbody>\n",
              "</table>\n",
              "<p>508087 rows × 10 columns</p>\n",
              "</div>"
            ],
            "text/plain": [
              "            ID  Day_No  ... User_Traffic Competition_Metric\n",
              "0            1       1  ...        11004              0.007\n",
              "1            2       2  ...        13650              0.007\n",
              "2            3       3  ...        11655              0.007\n",
              "3            4       4  ...        12054              0.007\n",
              "4            5       5  ...         6804              0.007\n",
              "...        ...     ...  ...          ...                ...\n",
              "508082  543783     406  ...        12243              0.070\n",
              "508083  543784     407  ...        11193              0.070\n",
              "508084  543785     408  ...        11109              0.070\n",
              "508085  543786     409  ...        12327              0.070\n",
              "508086  543787     410  ...        12033              0.070\n",
              "\n",
              "[508087 rows x 10 columns]"
            ]
          },
          "metadata": {
            "tags": []
          },
          "execution_count": 27
        }
      ]
    },
    {
      "cell_type": "code",
      "metadata": {
        "id": "LPHaq112YgAT",
        "colab_type": "code",
        "colab": {}
      },
      "source": [
        "import catboost as cg"
      ],
      "execution_count": 0,
      "outputs": []
    },
    {
      "cell_type": "code",
      "metadata": {
        "id": "3ehp0in0YxeM",
        "colab_type": "code",
        "colab": {}
      },
      "source": [
        "??cg.CatBoostRegressor"
      ],
      "execution_count": 0,
      "outputs": []
    },
    {
      "cell_type": "code",
      "metadata": {
        "id": "ouf_hcVjYL8j",
        "colab_type": "code",
        "colab": {
          "base_uri": "https://localhost:8080/",
          "height": 34
        },
        "outputId": "575256d8-3a7c-45fd-c3dd-c9ad9132dab9"
      },
      "source": [
        "cat_boost_cf1 = cg.CatBoostRegressor(loss_function='RMSE', subsample = 1, rsm=1, learning_rate= 0.20\n",
        "                                     )#, subsample = 1,  learning_rate= 0.01, n_estimators=100)\n",
        "cat_boost_cf1.fit(train_features2.drop('ID',axis=1), train_labels, cat_features=categorical_features_pos, verbose = False)"
      ],
      "execution_count": 43,
      "outputs": [
        {
          "output_type": "execute_result",
          "data": {
            "text/plain": [
              "<catboost.core.CatBoostRegressor at 0x7fa821ec3b70>"
            ]
          },
          "metadata": {
            "tags": []
          },
          "execution_count": 43
        }
      ]
    },
    {
      "cell_type": "code",
      "metadata": {
        "id": "bttJSCDGYWXI",
        "colab_type": "code",
        "colab": {}
      },
      "source": [
        "val_pred_ctb_cf1 = cat_boost_cf1.predict(val_features2.drop('ID', axis=1))\n"
      ],
      "execution_count": 0,
      "outputs": []
    },
    {
      "cell_type": "code",
      "metadata": {
        "id": "z7jWMz_favDE",
        "colab_type": "code",
        "colab": {
          "base_uri": "https://localhost:8080/",
          "height": 52
        },
        "outputId": "507048b8-44cb-4b01-d35e-c66199267d03"
      },
      "source": [
        "val_pred_ctb_cf1"
      ],
      "execution_count": 45,
      "outputs": [
        {
          "output_type": "execute_result",
          "data": {
            "text/plain": [
              "array([ 42.16424521,  75.3518641 , 117.13007372, ..., 136.79261065,\n",
              "        86.3244218 , 129.03100948])"
            ]
          },
          "metadata": {
            "tags": []
          },
          "execution_count": 45
        }
      ]
    },
    {
      "cell_type": "code",
      "metadata": {
        "id": "J7MFYCQJZgr9",
        "colab_type": "code",
        "colab": {}
      },
      "source": [
        "#y_pred_train=model.predict(x_test)\n",
        "rmsle_result = MSLE((val_labels),(val_pred_ctb_cf1)) "
      ],
      "execution_count": 0,
      "outputs": []
    },
    {
      "cell_type": "code",
      "metadata": {
        "id": "nM032F3fa2M2",
        "colab_type": "code",
        "colab": {
          "base_uri": "https://localhost:8080/",
          "height": 34
        },
        "outputId": "a31f04a8-e856-429c-d6ba-cf6e45880e32"
      },
      "source": [
        "rmsle_result"
      ],
      "execution_count": 48,
      "outputs": [
        {
          "output_type": "execute_result",
          "data": {
            "text/plain": [
              "258.3956419744669"
            ]
          },
          "metadata": {
            "tags": []
          },
          "execution_count": 48
        }
      ]
    },
    {
      "cell_type": "code",
      "metadata": {
        "id": "Vxcp3Nu0XbSP",
        "colab_type": "code",
        "colab": {}
      },
      "source": [
        "#train['Competition_Metric'] = round(train['Competition_Metric'] ,3)"
      ],
      "execution_count": 0,
      "outputs": []
    },
    {
      "cell_type": "code",
      "metadata": {
        "id": "n7ckJD1OQ4NH",
        "colab_type": "code",
        "colab": {}
      },
      "source": [
        "train['Course_ID'] =  train['Course_ID'].astype('str')\n",
        "train['Course_Domain'] =train['Course_Domain'].astype('str')\n",
        "train['Course_Type'] =train['Course_Type'].astype('str')\n",
        "\n",
        "data_pivot= pd.DataFrame(train.pivot_table(values = 'User_Traffic', index=[\"Course_Domain\", \"Course_ID\",\"Course_Type\", round(train['Competition_Metric'],3)], aggfunc='mean'))\n",
        "data_pivot.fillna(0, inplace=True)\n"
      ],
      "execution_count": 0,
      "outputs": []
    },
    {
      "cell_type": "code",
      "metadata": {
        "id": "3hOXdGKMb_8I",
        "colab_type": "code",
        "colab": {}
      },
      "source": [
        "#train_features2['Competition_Metric']"
      ],
      "execution_count": 0,
      "outputs": []
    },
    {
      "cell_type": "code",
      "metadata": {
        "id": "vK6GnVlHTNqV",
        "colab_type": "code",
        "colab": {
          "base_uri": "https://localhost:8080/",
          "height": 440
        },
        "outputId": "91a78b78-53ee-4ec3-d25a-510bef42516b"
      },
      "source": [
        "data_pivot"
      ],
      "execution_count": 202,
      "outputs": [
        {
          "output_type": "execute_result",
          "data": {
            "text/html": [
              "<div>\n",
              "<style scoped>\n",
              "    .dataframe tbody tr th:only-of-type {\n",
              "        vertical-align: middle;\n",
              "    }\n",
              "\n",
              "    .dataframe tbody tr th {\n",
              "        vertical-align: top;\n",
              "    }\n",
              "\n",
              "    .dataframe thead th {\n",
              "        text-align: right;\n",
              "    }\n",
              "</style>\n",
              "<table border=\"1\" class=\"dataframe\">\n",
              "  <thead>\n",
              "    <tr style=\"text-align: right;\">\n",
              "      <th></th>\n",
              "      <th></th>\n",
              "      <th></th>\n",
              "      <th></th>\n",
              "      <th>User_Traffic</th>\n",
              "    </tr>\n",
              "    <tr>\n",
              "      <th>Course_Domain</th>\n",
              "      <th>Course_ID</th>\n",
              "      <th>Course_Type</th>\n",
              "      <th>Competition_Metric</th>\n",
              "      <th></th>\n",
              "    </tr>\n",
              "  </thead>\n",
              "  <tbody>\n",
              "    <tr>\n",
              "      <th rowspan=\"5\" valign=\"top\">Business</th>\n",
              "      <th>200</th>\n",
              "      <th>Course</th>\n",
              "      <th>0.001</th>\n",
              "      <td>50190.047619</td>\n",
              "    </tr>\n",
              "    <tr>\n",
              "      <th>243</th>\n",
              "      <th>Course</th>\n",
              "      <th>0.016</th>\n",
              "      <td>39337.404762</td>\n",
              "    </tr>\n",
              "    <tr>\n",
              "      <th>431</th>\n",
              "      <th>Degree</th>\n",
              "      <th>0.011</th>\n",
              "      <td>64216.428571</td>\n",
              "    </tr>\n",
              "    <tr>\n",
              "      <th>49</th>\n",
              "      <th>Course</th>\n",
              "      <th>0.024</th>\n",
              "      <td>21352.309524</td>\n",
              "    </tr>\n",
              "    <tr>\n",
              "      <th>594</th>\n",
              "      <th>Degree</th>\n",
              "      <th>0.009</th>\n",
              "      <td>50518.547619</td>\n",
              "    </tr>\n",
              "    <tr>\n",
              "      <th>...</th>\n",
              "      <th>...</th>\n",
              "      <th>...</th>\n",
              "      <th>...</th>\n",
              "      <td>...</td>\n",
              "    </tr>\n",
              "    <tr>\n",
              "      <th rowspan=\"5\" valign=\"top\">Software Marketing</th>\n",
              "      <th>78</th>\n",
              "      <th>Program</th>\n",
              "      <th>0.013</th>\n",
              "      <td>11817.825215</td>\n",
              "    </tr>\n",
              "    <tr>\n",
              "      <th>81</th>\n",
              "      <th>Course</th>\n",
              "      <th>0.068</th>\n",
              "      <td>11083.047619</td>\n",
              "    </tr>\n",
              "    <tr>\n",
              "      <th>87</th>\n",
              "      <th>Course</th>\n",
              "      <th>0.034</th>\n",
              "      <td>9913.173352</td>\n",
              "    </tr>\n",
              "    <tr>\n",
              "      <th>9</th>\n",
              "      <th>Course</th>\n",
              "      <th>0.004</th>\n",
              "      <td>7868.230659</td>\n",
              "    </tr>\n",
              "    <tr>\n",
              "      <th>91</th>\n",
              "      <th>Course</th>\n",
              "      <th>0.112</th>\n",
              "      <td>14266.641834</td>\n",
              "    </tr>\n",
              "  </tbody>\n",
              "</table>\n",
              "<p>594 rows × 1 columns</p>\n",
              "</div>"
            ],
            "text/plain": [
              "                                                             User_Traffic\n",
              "Course_Domain      Course_ID Course_Type Competition_Metric              \n",
              "Business           200       Course      0.001               50190.047619\n",
              "                   243       Course      0.016               39337.404762\n",
              "                   431       Degree      0.011               64216.428571\n",
              "                   49        Course      0.024               21352.309524\n",
              "                   594       Degree      0.009               50518.547619\n",
              "...                                                                   ...\n",
              "Software Marketing 78        Program     0.013               11817.825215\n",
              "                   81        Course      0.068               11083.047619\n",
              "                   87        Course      0.034                9913.173352\n",
              "                   9         Course      0.004                7868.230659\n",
              "                   91        Course      0.112               14266.641834\n",
              "\n",
              "[594 rows x 1 columns]"
            ]
          },
          "metadata": {
            "tags": []
          },
          "execution_count": 202
        }
      ]
    },
    {
      "cell_type": "code",
      "metadata": {
        "id": "fcPd3fnJTYul",
        "colab_type": "code",
        "colab": {}
      },
      "source": [
        ""
      ],
      "execution_count": 0,
      "outputs": []
    },
    {
      "cell_type": "code",
      "metadata": {
        "id": "fBK4Yjt-qRQb",
        "colab_type": "code",
        "colab": {}
      },
      "source": [
        "test['Course_ID'] =  test['Course_ID'].astype('str')\n",
        "test['Course_Domain'] =test['Course_Domain'].astype('str')\n",
        "test['Course_Type'] =test['Course_Type'].astype('str')"
      ],
      "execution_count": 0,
      "outputs": []
    },
    {
      "cell_type": "code",
      "metadata": {
        "id": "b8aXyrhDaWz6",
        "colab_type": "code",
        "colab": {}
      },
      "source": [
        "test['Competition_Metric'] = round(test['Competition_Metric'] ,3)"
      ],
      "execution_count": 0,
      "outputs": []
    },
    {
      "cell_type": "code",
      "metadata": {
        "id": "G4-nZRLnc49R",
        "colab_type": "code",
        "colab": {
          "base_uri": "https://localhost:8080/",
          "height": 298
        },
        "outputId": "0b4f13cc-00dd-40a2-93f0-727485b83855"
      },
      "source": [
        "test.info()"
      ],
      "execution_count": 31,
      "outputs": [
        {
          "output_type": "stream",
          "text": [
            "<class 'pandas.core.frame.DataFrame'>\n",
            "RangeIndex: 36000 entries, 0 to 35999\n",
            "Data columns (total 9 columns):\n",
            " #   Column              Non-Null Count  Dtype  \n",
            "---  ------              --------------  -----  \n",
            " 0   ID                  36000 non-null  int64  \n",
            " 1   Day_No              36000 non-null  int64  \n",
            " 2   Course_ID           36000 non-null  object \n",
            " 3   Course_Domain       36000 non-null  object \n",
            " 4   Course_Type         36000 non-null  object \n",
            " 5   Short_Promotion     36000 non-null  int64  \n",
            " 6   Public_Holiday      36000 non-null  int64  \n",
            " 7   Long_Promotion      36000 non-null  int64  \n",
            " 8   Competition_Metric  35880 non-null  float64\n",
            "dtypes: float64(1), int64(5), object(3)\n",
            "memory usage: 2.5+ MB\n"
          ],
          "name": "stdout"
        }
      ]
    },
    {
      "cell_type": "code",
      "metadata": {
        "id": "qI-y2qQlqoik",
        "colab_type": "code",
        "colab": {
          "base_uri": "https://localhost:8080/",
          "height": 515
        },
        "outputId": "40a99108-5465-4d2d-a122-b262b3233a79"
      },
      "source": [
        "test2= pd.merge(test, data_pivot,'left', on = [\"Course_Domain\",\"Course_ID\", \"Course_Type\", \"Competition_Metric\"])\n",
        "test2"
      ],
      "execution_count": 32,
      "outputs": [
        {
          "output_type": "execute_result",
          "data": {
            "text/html": [
              "<div>\n",
              "<style scoped>\n",
              "    .dataframe tbody tr th:only-of-type {\n",
              "        vertical-align: middle;\n",
              "    }\n",
              "\n",
              "    .dataframe tbody tr th {\n",
              "        vertical-align: top;\n",
              "    }\n",
              "\n",
              "    .dataframe thead th {\n",
              "        text-align: right;\n",
              "    }\n",
              "</style>\n",
              "<table border=\"1\" class=\"dataframe\">\n",
              "  <thead>\n",
              "    <tr style=\"text-align: right;\">\n",
              "      <th></th>\n",
              "      <th>ID</th>\n",
              "      <th>Day_No</th>\n",
              "      <th>Course_ID</th>\n",
              "      <th>Course_Domain</th>\n",
              "      <th>Course_Type</th>\n",
              "      <th>Short_Promotion</th>\n",
              "      <th>Public_Holiday</th>\n",
              "      <th>Long_Promotion</th>\n",
              "      <th>Competition_Metric</th>\n",
              "      <th>User_Traffic</th>\n",
              "    </tr>\n",
              "  </thead>\n",
              "  <tbody>\n",
              "    <tr>\n",
              "      <th>0</th>\n",
              "      <td>883</td>\n",
              "      <td>883</td>\n",
              "      <td>1</td>\n",
              "      <td>Development</td>\n",
              "      <td>Course</td>\n",
              "      <td>1</td>\n",
              "      <td>0</td>\n",
              "      <td>1</td>\n",
              "      <td>0.007</td>\n",
              "      <td>11882.071429</td>\n",
              "    </tr>\n",
              "    <tr>\n",
              "      <th>1</th>\n",
              "      <td>884</td>\n",
              "      <td>884</td>\n",
              "      <td>1</td>\n",
              "      <td>Development</td>\n",
              "      <td>Course</td>\n",
              "      <td>1</td>\n",
              "      <td>0</td>\n",
              "      <td>1</td>\n",
              "      <td>0.007</td>\n",
              "      <td>11882.071429</td>\n",
              "    </tr>\n",
              "    <tr>\n",
              "      <th>2</th>\n",
              "      <td>885</td>\n",
              "      <td>885</td>\n",
              "      <td>1</td>\n",
              "      <td>Development</td>\n",
              "      <td>Course</td>\n",
              "      <td>1</td>\n",
              "      <td>0</td>\n",
              "      <td>1</td>\n",
              "      <td>0.007</td>\n",
              "      <td>11882.071429</td>\n",
              "    </tr>\n",
              "    <tr>\n",
              "      <th>3</th>\n",
              "      <td>886</td>\n",
              "      <td>886</td>\n",
              "      <td>1</td>\n",
              "      <td>Development</td>\n",
              "      <td>Course</td>\n",
              "      <td>1</td>\n",
              "      <td>0</td>\n",
              "      <td>1</td>\n",
              "      <td>0.007</td>\n",
              "      <td>11882.071429</td>\n",
              "    </tr>\n",
              "    <tr>\n",
              "      <th>4</th>\n",
              "      <td>887</td>\n",
              "      <td>887</td>\n",
              "      <td>1</td>\n",
              "      <td>Development</td>\n",
              "      <td>Course</td>\n",
              "      <td>0</td>\n",
              "      <td>0</td>\n",
              "      <td>1</td>\n",
              "      <td>0.007</td>\n",
              "      <td>11882.071429</td>\n",
              "    </tr>\n",
              "    <tr>\n",
              "      <th>...</th>\n",
              "      <td>...</td>\n",
              "      <td>...</td>\n",
              "      <td>...</td>\n",
              "      <td>...</td>\n",
              "      <td>...</td>\n",
              "      <td>...</td>\n",
              "      <td>...</td>\n",
              "      <td>...</td>\n",
              "      <td>...</td>\n",
              "      <td>...</td>\n",
              "    </tr>\n",
              "    <tr>\n",
              "      <th>35995</th>\n",
              "      <td>548083</td>\n",
              "      <td>938</td>\n",
              "      <td>600</td>\n",
              "      <td>Software Marketing</td>\n",
              "      <td>Program</td>\n",
              "      <td>1</td>\n",
              "      <td>0</td>\n",
              "      <td>1</td>\n",
              "      <td>0.070</td>\n",
              "      <td>8893.738095</td>\n",
              "    </tr>\n",
              "    <tr>\n",
              "      <th>35996</th>\n",
              "      <td>548084</td>\n",
              "      <td>939</td>\n",
              "      <td>600</td>\n",
              "      <td>Software Marketing</td>\n",
              "      <td>Program</td>\n",
              "      <td>1</td>\n",
              "      <td>0</td>\n",
              "      <td>1</td>\n",
              "      <td>0.070</td>\n",
              "      <td>8893.738095</td>\n",
              "    </tr>\n",
              "    <tr>\n",
              "      <th>35997</th>\n",
              "      <td>548085</td>\n",
              "      <td>940</td>\n",
              "      <td>600</td>\n",
              "      <td>Software Marketing</td>\n",
              "      <td>Program</td>\n",
              "      <td>1</td>\n",
              "      <td>0</td>\n",
              "      <td>1</td>\n",
              "      <td>0.070</td>\n",
              "      <td>8893.738095</td>\n",
              "    </tr>\n",
              "    <tr>\n",
              "      <th>35998</th>\n",
              "      <td>548086</td>\n",
              "      <td>941</td>\n",
              "      <td>600</td>\n",
              "      <td>Software Marketing</td>\n",
              "      <td>Program</td>\n",
              "      <td>1</td>\n",
              "      <td>0</td>\n",
              "      <td>1</td>\n",
              "      <td>0.070</td>\n",
              "      <td>8893.738095</td>\n",
              "    </tr>\n",
              "    <tr>\n",
              "      <th>35999</th>\n",
              "      <td>548087</td>\n",
              "      <td>942</td>\n",
              "      <td>600</td>\n",
              "      <td>Software Marketing</td>\n",
              "      <td>Program</td>\n",
              "      <td>1</td>\n",
              "      <td>0</td>\n",
              "      <td>1</td>\n",
              "      <td>0.070</td>\n",
              "      <td>8893.738095</td>\n",
              "    </tr>\n",
              "  </tbody>\n",
              "</table>\n",
              "<p>36000 rows × 10 columns</p>\n",
              "</div>"
            ],
            "text/plain": [
              "           ID  Day_No  ... Competition_Metric  User_Traffic\n",
              "0         883     883  ...              0.007  11882.071429\n",
              "1         884     884  ...              0.007  11882.071429\n",
              "2         885     885  ...              0.007  11882.071429\n",
              "3         886     886  ...              0.007  11882.071429\n",
              "4         887     887  ...              0.007  11882.071429\n",
              "...       ...     ...  ...                ...           ...\n",
              "35995  548083     938  ...              0.070   8893.738095\n",
              "35996  548084     939  ...              0.070   8893.738095\n",
              "35997  548085     940  ...              0.070   8893.738095\n",
              "35998  548086     941  ...              0.070   8893.738095\n",
              "35999  548087     942  ...              0.070   8893.738095\n",
              "\n",
              "[36000 rows x 10 columns]"
            ]
          },
          "metadata": {
            "tags": []
          },
          "execution_count": 32
        }
      ]
    },
    {
      "cell_type": "code",
      "metadata": {
        "id": "3jUXbwZ6gcfY",
        "colab_type": "code",
        "colab": {
          "base_uri": "https://localhost:8080/",
          "height": 34
        },
        "outputId": "d13220f8-eb7b-4fc5-a9fa-efbea8101a29"
      },
      "source": [
        "#cat_boost_cf1 = cg.CatBoostRegressor(loss_function='RMSE', subsample = 1, rsm=1, learning_rate= 0.20\n",
        "                                     )#, subsample = 1,  learning_rate= 0.01, n_estimators=100)\n",
        "#cat_boost_cf1.fit(train.drop(['Sales','ID'], axis=1), train['Sales'], cat_features=categorical_features_pos, verbose = False)"
      ],
      "execution_count": 36,
      "outputs": [
        {
          "output_type": "execute_result",
          "data": {
            "text/plain": [
              "<catboost.core.CatBoostRegressor at 0x7fa822ff1278>"
            ]
          },
          "metadata": {
            "tags": []
          },
          "execution_count": 36
        }
      ]
    },
    {
      "cell_type": "code",
      "metadata": {
        "id": "OW8dAgt7qVB_",
        "colab_type": "code",
        "colab": {}
      },
      "source": [
        "test2['prediction'] = cat_boost_cf1.predict(test2.drop('ID',axis=1))"
      ],
      "execution_count": 0,
      "outputs": []
    },
    {
      "cell_type": "code",
      "metadata": {
        "id": "6UpAHPzRa3Zb",
        "colab_type": "code",
        "colab": {}
      },
      "source": [
        "with open('/gdrive/My Drive/datahack_Brian/catboost.csv', 'w') as f:\n",
        " test2.to_csv(f)"
      ],
      "execution_count": 0,
      "outputs": []
    },
    {
      "cell_type": "code",
      "metadata": {
        "id": "kb1NgWS2bTPg",
        "colab_type": "code",
        "colab": {}
      },
      "source": [
        ""
      ],
      "execution_count": 0,
      "outputs": []
    },
    {
      "cell_type": "markdown",
      "metadata": {
        "id": "DDUkM-Sag9YH",
        "colab_type": "text"
      },
      "source": [
        "Training on whole data"
      ]
    }
  ]
}